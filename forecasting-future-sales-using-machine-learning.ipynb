{
 "cells": [
  {
   "cell_type": "markdown",
   "id": "494cce62",
   "metadata": {
    "papermill": {
     "duration": 0.02751,
     "end_time": "2023-05-15T01:28:08.071538",
     "exception": false,
     "start_time": "2023-05-15T01:28:08.044028",
     "status": "completed"
    },
    "tags": []
   },
   "source": [
    "# Forecasting Future Sales Using Machine Learning\n",
    "\n",
    "Forecasting future sales of a product offers many advantages. Predicting future sales of a product helps a company manage the cost of manufacturing and marketing the product. In this notebook, I will try to you through the task of future sales prediction with machine learning using Python."
   ]
  },
  {
   "cell_type": "code",
   "execution_count": 1,
   "id": "e28cf861",
   "metadata": {
    "execution": {
     "iopub.execute_input": "2023-05-15T01:28:08.128764Z",
     "iopub.status.busy": "2023-05-15T01:28:08.128243Z",
     "iopub.status.idle": "2023-05-15T01:28:17.076278Z",
     "shell.execute_reply": "2023-05-15T01:28:17.074434Z"
    },
    "papermill": {
     "duration": 8.981197,
     "end_time": "2023-05-15T01:28:17.080228",
     "exception": false,
     "start_time": "2023-05-15T01:28:08.099031",
     "status": "completed"
    },
    "tags": []
   },
   "outputs": [],
   "source": [
    "# EDA Libraries:\n",
    "\n",
    "import pandas as pd\n",
    "import numpy as np\n",
    "\n",
    "import matplotlib.colors as col\n",
    "from mpl_toolkits.mplot3d import Axes3D\n",
    "import matplotlib.pyplot as plt\n",
    "import seaborn as sns\n",
    "%matplotlib inline\n",
    "\n",
    "import datetime\n",
    "from pathlib import Path  \n",
    "import random\n",
    "\n",
    "# Scikit-Learn models:\n",
    "\n",
    "from sklearn.preprocessing import MinMaxScaler\n",
    "from sklearn.linear_model import LinearRegression\n",
    "from sklearn.metrics import mean_squared_error, mean_absolute_error, r2_score\n",
    "from sklearn.ensemble import RandomForestRegressor\n",
    "from xgboost.sklearn import XGBRegressor\n",
    "from sklearn.model_selection import KFold, cross_val_score, train_test_split\n",
    "\n",
    "# LSTM:\n",
    "\n",
    "import keras\n",
    "from keras.layers import Dense\n",
    "from keras.models import Sequential\n",
    "from keras.callbacks import EarlyStopping\n",
    "from keras.utils import np_utils\n",
    "from keras.layers import LSTM\n",
    "\n",
    "\n",
    "# ARIMA Model:\n",
    "\n",
    "import statsmodels.tsa.api as smt\n",
    "import statsmodels.api as sm\n",
    "from statsmodels.tools.eval_measures import rmse\n",
    "\n",
    "\n",
    "import pickle\n",
    "import warnings\n"
   ]
  },
  {
   "cell_type": "code",
   "execution_count": 2,
   "id": "023ca57b",
   "metadata": {
    "execution": {
     "iopub.execute_input": "2023-05-15T01:28:17.138668Z",
     "iopub.status.busy": "2023-05-15T01:28:17.137939Z",
     "iopub.status.idle": "2023-05-15T01:28:17.144361Z",
     "shell.execute_reply": "2023-05-15T01:28:17.142993Z"
    },
    "papermill": {
     "duration": 0.036407,
     "end_time": "2023-05-15T01:28:17.147150",
     "exception": false,
     "start_time": "2023-05-15T01:28:17.110743",
     "status": "completed"
    },
    "tags": []
   },
   "outputs": [],
   "source": [
    "warnings.filterwarnings(\"ignore\", category=FutureWarning)"
   ]
  },
  {
   "cell_type": "markdown",
   "id": "7e5924f5",
   "metadata": {
    "papermill": {
     "duration": 0.02469,
     "end_time": "2023-05-15T01:28:17.197100",
     "exception": false,
     "start_time": "2023-05-15T01:28:17.172410",
     "status": "completed"
    },
    "tags": []
   },
   "source": [
    "## **Loading Dataset & Data Exploration (EDA)** "
   ]
  },
  {
   "cell_type": "markdown",
   "id": "b2091ca6",
   "metadata": {
    "papermill": {
     "duration": 0.026181,
     "end_time": "2023-05-15T01:28:17.248292",
     "exception": false,
     "start_time": "2023-05-15T01:28:17.222111",
     "status": "completed"
    },
    "tags": []
   },
   "source": [
    "   The first step is to load the data and transform it into a structure that we will then use for each of our models. In its raw form, each row of data represents a single day of sales at one of ten stores. Our goal is to predict monthly sales, so we will first consolidate all stores and days into total monthly sales."
   ]
  },
  {
   "cell_type": "code",
   "execution_count": 3,
   "id": "83f3244c",
   "metadata": {
    "execution": {
     "iopub.execute_input": "2023-05-15T01:28:17.301750Z",
     "iopub.status.busy": "2023-05-15T01:28:17.301213Z",
     "iopub.status.idle": "2023-05-15T01:28:17.350639Z",
     "shell.execute_reply": "2023-05-15T01:28:17.349456Z"
    },
    "papermill": {
     "duration": 0.079534,
     "end_time": "2023-05-15T01:28:17.353858",
     "exception": false,
     "start_time": "2023-05-15T01:28:17.274324",
     "status": "completed"
    },
    "tags": []
   },
   "outputs": [
    {
     "data": {
      "text/html": [
       "<div>\n",
       "<style scoped>\n",
       "    .dataframe tbody tr th:only-of-type {\n",
       "        vertical-align: middle;\n",
       "    }\n",
       "\n",
       "    .dataframe tbody tr th {\n",
       "        vertical-align: top;\n",
       "    }\n",
       "\n",
       "    .dataframe thead th {\n",
       "        text-align: right;\n",
       "    }\n",
       "</style>\n",
       "<table border=\"1\" class=\"dataframe\">\n",
       "  <thead>\n",
       "    <tr style=\"text-align: right;\">\n",
       "      <th></th>\n",
       "      <th>id</th>\n",
       "      <th>sales</th>\n",
       "    </tr>\n",
       "  </thead>\n",
       "  <tbody>\n",
       "    <tr>\n",
       "      <th>0</th>\n",
       "      <td>0</td>\n",
       "      <td>52</td>\n",
       "    </tr>\n",
       "    <tr>\n",
       "      <th>1</th>\n",
       "      <td>1</td>\n",
       "      <td>52</td>\n",
       "    </tr>\n",
       "    <tr>\n",
       "      <th>2</th>\n",
       "      <td>2</td>\n",
       "      <td>52</td>\n",
       "    </tr>\n",
       "    <tr>\n",
       "      <th>3</th>\n",
       "      <td>3</td>\n",
       "      <td>52</td>\n",
       "    </tr>\n",
       "    <tr>\n",
       "      <th>4</th>\n",
       "      <td>4</td>\n",
       "      <td>52</td>\n",
       "    </tr>\n",
       "  </tbody>\n",
       "</table>\n",
       "</div>"
      ],
      "text/plain": [
       "   id  sales\n",
       "0   0     52\n",
       "1   1     52\n",
       "2   2     52\n",
       "3   3     52\n",
       "4   4     52"
      ]
     },
     "execution_count": 3,
     "metadata": {},
     "output_type": "execute_result"
    }
   ],
   "source": [
    "dataset = pd.read_csv('../input/demand-forecasting-kernels-only/sample_submission.csv')\n",
    "df = dataset.copy()\n",
    "df.head()"
   ]
  },
  {
   "cell_type": "code",
   "execution_count": 4,
   "id": "6eecee96",
   "metadata": {
    "execution": {
     "iopub.execute_input": "2023-05-15T01:28:17.407783Z",
     "iopub.status.busy": "2023-05-15T01:28:17.407368Z",
     "iopub.status.idle": "2023-05-15T01:28:17.412776Z",
     "shell.execute_reply": "2023-05-15T01:28:17.411808Z"
    },
    "papermill": {
     "duration": 0.035224,
     "end_time": "2023-05-15T01:28:17.415333",
     "exception": false,
     "start_time": "2023-05-15T01:28:17.380109",
     "status": "completed"
    },
    "tags": []
   },
   "outputs": [],
   "source": [
    "def load_data(file_name):\n",
    "    \"\"\"Returns a pandas dataframe from a csv file.\"\"\"\n",
    "    return pd.read_csv(file_name)"
   ]
  },
  {
   "cell_type": "code",
   "execution_count": 5,
   "id": "2160777b",
   "metadata": {
    "execution": {
     "iopub.execute_input": "2023-05-15T01:28:17.468115Z",
     "iopub.status.busy": "2023-05-15T01:28:17.467656Z",
     "iopub.status.idle": "2023-05-15T01:28:18.175798Z",
     "shell.execute_reply": "2023-05-15T01:28:18.174140Z"
    },
    "papermill": {
     "duration": 0.738598,
     "end_time": "2023-05-15T01:28:18.179328",
     "exception": false,
     "start_time": "2023-05-15T01:28:17.440730",
     "status": "completed"
    },
    "tags": []
   },
   "outputs": [
    {
     "name": "stdout",
     "output_type": "stream",
     "text": [
      "<class 'pandas.core.frame.DataFrame'>\n",
      "RangeIndex: 913000 entries, 0 to 912999\n",
      "Data columns (total 4 columns):\n",
      " #   Column  Non-Null Count   Dtype \n",
      "---  ------  --------------   ----- \n",
      " 0   date    913000 non-null  object\n",
      " 1   store   913000 non-null  int64 \n",
      " 2   item    913000 non-null  int64 \n",
      " 3   sales   913000 non-null  int64 \n",
      "dtypes: int64(3), object(1)\n",
      "memory usage: 27.9+ MB\n"
     ]
    }
   ],
   "source": [
    "sales_data = load_data('../input/demand-forecasting-kernels-only/train.csv')\n",
    "df_s = sales_data.copy()\n",
    "df_s.info()"
   ]
  },
  {
   "cell_type": "code",
   "execution_count": 6,
   "id": "c9e460a5",
   "metadata": {
    "execution": {
     "iopub.execute_input": "2023-05-15T01:28:18.232939Z",
     "iopub.status.busy": "2023-05-15T01:28:18.232526Z",
     "iopub.status.idle": "2023-05-15T01:28:18.245647Z",
     "shell.execute_reply": "2023-05-15T01:28:18.244280Z"
    },
    "papermill": {
     "duration": 0.043564,
     "end_time": "2023-05-15T01:28:18.248522",
     "exception": false,
     "start_time": "2023-05-15T01:28:18.204958",
     "status": "completed"
    },
    "tags": []
   },
   "outputs": [
    {
     "data": {
      "text/html": [
       "<div>\n",
       "<style scoped>\n",
       "    .dataframe tbody tr th:only-of-type {\n",
       "        vertical-align: middle;\n",
       "    }\n",
       "\n",
       "    .dataframe tbody tr th {\n",
       "        vertical-align: top;\n",
       "    }\n",
       "\n",
       "    .dataframe thead th {\n",
       "        text-align: right;\n",
       "    }\n",
       "</style>\n",
       "<table border=\"1\" class=\"dataframe\">\n",
       "  <thead>\n",
       "    <tr style=\"text-align: right;\">\n",
       "      <th></th>\n",
       "      <th>date</th>\n",
       "      <th>store</th>\n",
       "      <th>item</th>\n",
       "      <th>sales</th>\n",
       "    </tr>\n",
       "  </thead>\n",
       "  <tbody>\n",
       "    <tr>\n",
       "      <th>912995</th>\n",
       "      <td>2017-12-27</td>\n",
       "      <td>10</td>\n",
       "      <td>50</td>\n",
       "      <td>63</td>\n",
       "    </tr>\n",
       "    <tr>\n",
       "      <th>912996</th>\n",
       "      <td>2017-12-28</td>\n",
       "      <td>10</td>\n",
       "      <td>50</td>\n",
       "      <td>59</td>\n",
       "    </tr>\n",
       "    <tr>\n",
       "      <th>912997</th>\n",
       "      <td>2017-12-29</td>\n",
       "      <td>10</td>\n",
       "      <td>50</td>\n",
       "      <td>74</td>\n",
       "    </tr>\n",
       "    <tr>\n",
       "      <th>912998</th>\n",
       "      <td>2017-12-30</td>\n",
       "      <td>10</td>\n",
       "      <td>50</td>\n",
       "      <td>62</td>\n",
       "    </tr>\n",
       "    <tr>\n",
       "      <th>912999</th>\n",
       "      <td>2017-12-31</td>\n",
       "      <td>10</td>\n",
       "      <td>50</td>\n",
       "      <td>82</td>\n",
       "    </tr>\n",
       "  </tbody>\n",
       "</table>\n",
       "</div>"
      ],
      "text/plain": [
       "              date  store  item  sales\n",
       "912995  2017-12-27     10    50     63\n",
       "912996  2017-12-28     10    50     59\n",
       "912997  2017-12-29     10    50     74\n",
       "912998  2017-12-30     10    50     62\n",
       "912999  2017-12-31     10    50     82"
      ]
     },
     "execution_count": 6,
     "metadata": {},
     "output_type": "execute_result"
    }
   ],
   "source": [
    "df_s.tail()"
   ]
  },
  {
   "cell_type": "code",
   "execution_count": 7,
   "id": "d5c52c32",
   "metadata": {
    "execution": {
     "iopub.execute_input": "2023-05-15T01:28:18.303673Z",
     "iopub.status.busy": "2023-05-15T01:28:18.302813Z",
     "iopub.status.idle": "2023-05-15T01:28:18.353014Z",
     "shell.execute_reply": "2023-05-15T01:28:18.351772Z"
    },
    "papermill": {
     "duration": 0.081269,
     "end_time": "2023-05-15T01:28:18.355773",
     "exception": false,
     "start_time": "2023-05-15T01:28:18.274504",
     "status": "completed"
    },
    "tags": []
   },
   "outputs": [
    {
     "data": {
      "text/plain": [
       "count    913000.000000\n",
       "mean         52.250287\n",
       "std          28.801144\n",
       "min           0.000000\n",
       "25%          30.000000\n",
       "50%          47.000000\n",
       "75%          70.000000\n",
       "max         231.000000\n",
       "Name: sales, dtype: float64"
      ]
     },
     "execution_count": 7,
     "metadata": {},
     "output_type": "execute_result"
    }
   ],
   "source": [
    "# To view basic statistical details about dataset:\n",
    "\n",
    "df_s['sales'].describe()"
   ]
  },
  {
   "cell_type": "markdown",
   "id": "d7c0c493",
   "metadata": {
    "papermill": {
     "duration": 0.027127,
     "end_time": "2023-05-15T01:28:18.410156",
     "exception": false,
     "start_time": "2023-05-15T01:28:18.383029",
     "status": "completed"
    },
    "tags": []
   },
   "source": [
    " <div class=\"alert alert-block alert-danger\" style =\"background-color : #e6ebef;\">\n",
    "    <h4 style=\"padding: 15px;\n",
    "              color:black;\">📌 Sales seem to be unbalanced!\n",
    "    </h4>\n",
    "  </div>"
   ]
  },
  {
   "cell_type": "code",
   "execution_count": 8,
   "id": "6a377963",
   "metadata": {
    "execution": {
     "iopub.execute_input": "2023-05-15T01:28:18.465132Z",
     "iopub.status.busy": "2023-05-15T01:28:18.464272Z",
     "iopub.status.idle": "2023-05-15T01:28:18.988752Z",
     "shell.execute_reply": "2023-05-15T01:28:18.987321Z"
    },
    "papermill": {
     "duration": 0.555097,
     "end_time": "2023-05-15T01:28:18.991637",
     "exception": false,
     "start_time": "2023-05-15T01:28:18.436540",
     "status": "completed"
    },
    "tags": []
   },
   "outputs": [
    {
     "data": {
      "text/plain": [
       "<AxesSubplot:>"
      ]
     },
     "execution_count": 8,
     "metadata": {},
     "output_type": "execute_result"
    },
    {
     "data": {
      "image/png": "[encoded data removed]",
      "text/plain": [
       "<Figure size 432x288 with 1 Axes>"
      ]
     },
     "metadata": {
      "needs_background": "light"
     },
     "output_type": "display_data"
    }
   ],
   "source": [
    "df_s['sales'].plot()\n"
   ]
  },
  {
   "cell_type": "markdown",
   "id": "9b65f84c",
   "metadata": {
    "papermill": {
     "duration": 0.026011,
     "end_time": "2023-05-15T01:28:19.044162",
     "exception": false,
     "start_time": "2023-05-15T01:28:19.018151",
     "status": "completed"
    },
    "tags": []
   },
   "source": [
    "> Returns a dataframe where each row represents total sales for a given month. Columns include 'date' by month and 'sales'.\n",
    "    "
   ]
  },
  {
   "cell_type": "code",
   "execution_count": 9,
   "id": "299f52b5",
   "metadata": {
    "execution": {
     "iopub.execute_input": "2023-05-15T01:28:19.099555Z",
     "iopub.status.busy": "2023-05-15T01:28:19.099027Z",
     "iopub.status.idle": "2023-05-15T01:28:19.108503Z",
     "shell.execute_reply": "2023-05-15T01:28:19.107070Z"
    },
    "papermill": {
     "duration": 0.040452,
     "end_time": "2023-05-15T01:28:19.111140",
     "exception": false,
     "start_time": "2023-05-15T01:28:19.070688",
     "status": "completed"
    },
    "tags": []
   },
   "outputs": [],
   "source": [
    "def monthlyORyears_sales(data,time=['monthly','years']):\n",
    "    data = data.copy()\n",
    "    if time == \"monthly\":\n",
    "        # Drop the day indicator from the date column:\n",
    "        data.date = data.date.apply(lambda x: str(x)[:-3])\n",
    "    else:\n",
    "        data.date = data.date.apply(lambda x: str(x)[:4])\n",
    "        \n",
    "   # Sum sales per month: \n",
    "    data = data.groupby('date')['sales'].sum().reset_index()\n",
    "    data.date = pd.to_datetime(data.date)\n",
    "        \n",
    "    return data\n",
    "    "
   ]
  },
  {
   "cell_type": "code",
   "execution_count": 10,
   "id": "b58cd1da",
   "metadata": {
    "execution": {
     "iopub.execute_input": "2023-05-15T01:28:19.167521Z",
     "iopub.status.busy": "2023-05-15T01:28:19.167037Z",
     "iopub.status.idle": "2023-05-15T01:28:19.823162Z",
     "shell.execute_reply": "2023-05-15T01:28:19.821947Z"
    },
    "papermill": {
     "duration": 0.689336,
     "end_time": "2023-05-15T01:28:19.827497",
     "exception": false,
     "start_time": "2023-05-15T01:28:19.138161",
     "status": "completed"
    },
    "tags": []
   },
   "outputs": [],
   "source": [
    "m_df = monthlyORyears_sales(df_s,\"monthly\")\n",
    "\n",
    "m_df.to_csv('./monthly_data.csv')"
   ]
  },
  {
   "cell_type": "code",
   "execution_count": 11,
   "id": "285c8884",
   "metadata": {
    "execution": {
     "iopub.execute_input": "2023-05-15T01:28:19.884031Z",
     "iopub.status.busy": "2023-05-15T01:28:19.883212Z",
     "iopub.status.idle": "2023-05-15T01:28:19.895636Z",
     "shell.execute_reply": "2023-05-15T01:28:19.894338Z"
    },
    "papermill": {
     "duration": 0.043198,
     "end_time": "2023-05-15T01:28:19.898231",
     "exception": false,
     "start_time": "2023-05-15T01:28:19.855033",
     "status": "completed"
    },
    "tags": []
   },
   "outputs": [
    {
     "data": {
      "text/html": [
       "<div>\n",
       "<style scoped>\n",
       "    .dataframe tbody tr th:only-of-type {\n",
       "        vertical-align: middle;\n",
       "    }\n",
       "\n",
       "    .dataframe tbody tr th {\n",
       "        vertical-align: top;\n",
       "    }\n",
       "\n",
       "    .dataframe thead th {\n",
       "        text-align: right;\n",
       "    }\n",
       "</style>\n",
       "<table border=\"1\" class=\"dataframe\">\n",
       "  <thead>\n",
       "    <tr style=\"text-align: right;\">\n",
       "      <th></th>\n",
       "      <th>date</th>\n",
       "      <th>sales</th>\n",
       "    </tr>\n",
       "  </thead>\n",
       "  <tbody>\n",
       "    <tr>\n",
       "      <th>0</th>\n",
       "      <td>2013-01-01</td>\n",
       "      <td>454904</td>\n",
       "    </tr>\n",
       "    <tr>\n",
       "      <th>1</th>\n",
       "      <td>2013-02-01</td>\n",
       "      <td>459417</td>\n",
       "    </tr>\n",
       "    <tr>\n",
       "      <th>2</th>\n",
       "      <td>2013-03-01</td>\n",
       "      <td>617382</td>\n",
       "    </tr>\n",
       "    <tr>\n",
       "      <th>3</th>\n",
       "      <td>2013-04-01</td>\n",
       "      <td>682274</td>\n",
       "    </tr>\n",
       "    <tr>\n",
       "      <th>4</th>\n",
       "      <td>2013-05-01</td>\n",
       "      <td>763242</td>\n",
       "    </tr>\n",
       "    <tr>\n",
       "      <th>5</th>\n",
       "      <td>2013-06-01</td>\n",
       "      <td>795597</td>\n",
       "    </tr>\n",
       "    <tr>\n",
       "      <th>6</th>\n",
       "      <td>2013-07-01</td>\n",
       "      <td>855922</td>\n",
       "    </tr>\n",
       "    <tr>\n",
       "      <th>7</th>\n",
       "      <td>2013-08-01</td>\n",
       "      <td>766761</td>\n",
       "    </tr>\n",
       "    <tr>\n",
       "      <th>8</th>\n",
       "      <td>2013-09-01</td>\n",
       "      <td>689907</td>\n",
       "    </tr>\n",
       "    <tr>\n",
       "      <th>9</th>\n",
       "      <td>2013-10-01</td>\n",
       "      <td>656587</td>\n",
       "    </tr>\n",
       "  </tbody>\n",
       "</table>\n",
       "</div>"
      ],
      "text/plain": [
       "        date   sales\n",
       "0 2013-01-01  454904\n",
       "1 2013-02-01  459417\n",
       "2 2013-03-01  617382\n",
       "3 2013-04-01  682274\n",
       "4 2013-05-01  763242\n",
       "5 2013-06-01  795597\n",
       "6 2013-07-01  855922\n",
       "7 2013-08-01  766761\n",
       "8 2013-09-01  689907\n",
       "9 2013-10-01  656587"
      ]
     },
     "execution_count": 11,
     "metadata": {},
     "output_type": "execute_result"
    }
   ],
   "source": [
    "m_df.head(10)"
   ]
  },
  {
   "cell_type": "markdown",
   "id": "fb8bef94",
   "metadata": {
    "papermill": {
     "duration": 0.026313,
     "end_time": "2023-05-15T01:28:19.952056",
     "exception": false,
     "start_time": "2023-05-15T01:28:19.925743",
     "status": "completed"
    },
    "tags": []
   },
   "source": [
    "> In our new data frame, each row now represents the total sales for a given month across stores."
   ]
  },
  {
   "cell_type": "code",
   "execution_count": 12,
   "id": "eb088a47",
   "metadata": {
    "execution": {
     "iopub.execute_input": "2023-05-15T01:28:20.008027Z",
     "iopub.status.busy": "2023-05-15T01:28:20.007324Z",
     "iopub.status.idle": "2023-05-15T01:28:20.650079Z",
     "shell.execute_reply": "2023-05-15T01:28:20.648891Z"
    },
    "papermill": {
     "duration": 0.674053,
     "end_time": "2023-05-15T01:28:20.652947",
     "exception": false,
     "start_time": "2023-05-15T01:28:19.978894",
     "status": "completed"
    },
    "tags": []
   },
   "outputs": [
    {
     "data": {
      "text/html": [
       "<div>\n",
       "<style scoped>\n",
       "    .dataframe tbody tr th:only-of-type {\n",
       "        vertical-align: middle;\n",
       "    }\n",
       "\n",
       "    .dataframe tbody tr th {\n",
       "        vertical-align: top;\n",
       "    }\n",
       "\n",
       "    .dataframe thead th {\n",
       "        text-align: right;\n",
       "    }\n",
       "</style>\n",
       "<table border=\"1\" class=\"dataframe\">\n",
       "  <thead>\n",
       "    <tr style=\"text-align: right;\">\n",
       "      <th></th>\n",
       "      <th>date</th>\n",
       "      <th>sales</th>\n",
       "    </tr>\n",
       "  </thead>\n",
       "  <tbody>\n",
       "    <tr>\n",
       "      <th>0</th>\n",
       "      <td>2013-01-01</td>\n",
       "      <td>7941243</td>\n",
       "    </tr>\n",
       "    <tr>\n",
       "      <th>1</th>\n",
       "      <td>2014-01-01</td>\n",
       "      <td>9135482</td>\n",
       "    </tr>\n",
       "    <tr>\n",
       "      <th>2</th>\n",
       "      <td>2015-01-01</td>\n",
       "      <td>9536887</td>\n",
       "    </tr>\n",
       "    <tr>\n",
       "      <th>3</th>\n",
       "      <td>2016-01-01</td>\n",
       "      <td>10357160</td>\n",
       "    </tr>\n",
       "    <tr>\n",
       "      <th>4</th>\n",
       "      <td>2017-01-01</td>\n",
       "      <td>10733740</td>\n",
       "    </tr>\n",
       "  </tbody>\n",
       "</table>\n",
       "</div>"
      ],
      "text/plain": [
       "        date     sales\n",
       "0 2013-01-01   7941243\n",
       "1 2014-01-01   9135482\n",
       "2 2015-01-01   9536887\n",
       "3 2016-01-01  10357160\n",
       "4 2017-01-01  10733740"
      ]
     },
     "execution_count": 12,
     "metadata": {},
     "output_type": "execute_result"
    }
   ],
   "source": [
    "y_df = monthlyORyears_sales(df_s,\"years\")\n",
    "y_df"
   ]
  },
  {
   "cell_type": "code",
   "execution_count": 13,
   "id": "dcc4eeaa",
   "metadata": {
    "execution": {
     "iopub.execute_input": "2023-05-15T01:28:20.710973Z",
     "iopub.status.busy": "2023-05-15T01:28:20.710298Z",
     "iopub.status.idle": "2023-05-15T01:28:21.200899Z",
     "shell.execute_reply": "2023-05-15T01:28:21.199589Z"
    },
    "papermill": {
     "duration": 0.52241,
     "end_time": "2023-05-15T01:28:21.203763",
     "exception": false,
     "start_time": "2023-05-15T01:28:20.681353",
     "status": "completed"
    },
    "tags": []
   },
   "outputs": [
    {
     "data": {
      "text/plain": [
       "<matplotlib.legend.Legend at 0x7d7b1c3f1190>"
      ]
     },
     "execution_count": 13,
     "metadata": {},
     "output_type": "execute_result"
    },
    {
     "data": {
      "image/png": "[encoded data removed]",
      "text/plain": [
       "<Figure size 864x360 with 2 Axes>"
      ]
     },
     "metadata": {
      "needs_background": "light"
     },
     "output_type": "display_data"
    }
   ],
   "source": [
    "layout = (1, 2)\n",
    "\n",
    "raw = plt.subplot2grid(layout, (0 ,0))\n",
    "law = plt.subplot2grid(layout, (0 ,1))\n",
    "\n",
    "years = y_df['sales'].plot(kind = \"bar\",color = 'mediumblue', label=\"Sales\",ax=raw, figsize=(12,5))\n",
    "months = m_df['sales'].plot(marker = 'o',color = 'darkorange', label=\"Sales\", ax=law)\n",
    "\n",
    "years.set(xlabel = \"Years\",title = \"Distribution of Sales Per Year\")\n",
    "months.set(xlabel = \"Months\", title = \"Distribution of Sales Per Mounth\")\n",
    "\n",
    "sns.despine()\n",
    "plt.tight_layout()\n",
    "\n",
    "years.legend()\n",
    "months.legend()\n"
   ]
  },
  {
   "cell_type": "markdown",
   "id": "df6d66ca",
   "metadata": {
    "papermill": {
     "duration": 0.027479,
     "end_time": "2023-05-15T01:28:21.259524",
     "exception": false,
     "start_time": "2023-05-15T01:28:21.232045",
     "status": "completed"
    },
    "tags": []
   },
   "source": [
    "<div class=\"alert alert-block alert-danger\" style =\"background-color : #e6ebef;\">\n",
    "    <p style=\"padding: 15px;\n",
    "              color:black;\">📌 If we plot the total monthly sales over time, we see that the average monthly sales increase over time, so our data is not stationary.\n",
    "    </p>\n",
    "</div>"
   ]
  },
  {
   "cell_type": "markdown",
   "id": "80a1ba41",
   "metadata": {
    "papermill": {
     "duration": 0.027767,
     "end_time": "2023-05-15T01:28:21.315288",
     "exception": false,
     "start_time": "2023-05-15T01:28:21.287521",
     "status": "completed"
    },
    "tags": []
   },
   "source": [
    "[🦎 TREND AND SEASONALITY](https://www.amazon.com/Hands-Machine-Learning-Scikit-Learn-TensorFlow/dp/1492032646)\n",
    "> There are many other models to forecast time series, such as weighted\n",
    "moving average models or autoregressive integrated moving average\n",
    "(ARIMA) models. Some of them require you to first remove the trend\n",
    "and seasonality. For example, if you are studying the number of active\n",
    "users on your website, and it is growing by 10% every month, you\n",
    "would have to remove this trend from the time series. Once the model\n",
    "is trained and starts making predictions, you would have to add the\n",
    "trend back to get the final predictions. Similarly, if you are trying to\n",
    "predict the amount of sunscreen lotion sold every month, you will\n",
    "probably observe strong seasonality: since it sells well every summer,\n",
    "a similar pattern will be repeated every year. You would have to\n",
    "remove this seasonality from the time series, for example by\n",
    "computing the difference between the value at each time step and the\n",
    "value one year earlier (this technique is called differencing). Again,\n",
    "after the model is trained and makes predictions, you would have to\n",
    "add the seasonal pattern back to get the final predictions.\n"
   ]
  },
  {
   "cell_type": "markdown",
   "id": "93b7d18a",
   "metadata": {
    "papermill": {
     "duration": 0.027876,
     "end_time": "2023-05-15T01:28:21.371122",
     "exception": false,
     "start_time": "2023-05-15T01:28:21.343246",
     "status": "completed"
    },
    "tags": []
   },
   "source": [
    "# **Data Exploration (EDA)**"
   ]
  },
  {
   "cell_type": "markdown",
   "id": "89766cd7",
   "metadata": {
    "papermill": {
     "duration": 0.027522,
     "end_time": "2023-05-15T01:28:21.426691",
     "exception": false,
     "start_time": "2023-05-15T01:28:21.399169",
     "status": "completed"
    },
    "tags": []
   },
   "source": [
    " To make it stationary, we will calculate the difference between the sales of each month and add it to our data frame as a new column.\n",
    "> Further details of the stationary and differences are available [here.](https://www.analyticsvidhya.com/blog/2016/02/time-series-forecasting-codes-python/) But first let's take a closer look at the data set you work with by learning more about the data."
   ]
  },
  {
   "cell_type": "code",
   "execution_count": 14,
   "id": "9407b4fc",
   "metadata": {
    "execution": {
     "iopub.execute_input": "2023-05-15T01:28:21.486454Z",
     "iopub.status.busy": "2023-05-15T01:28:21.485724Z",
     "iopub.status.idle": "2023-05-15T01:28:21.492623Z",
     "shell.execute_reply": "2023-05-15T01:28:21.491687Z"
    },
    "papermill": {
     "duration": 0.03916,
     "end_time": "2023-05-15T01:28:21.495122",
     "exception": false,
     "start_time": "2023-05-15T01:28:21.455962",
     "status": "completed"
    },
    "tags": []
   },
   "outputs": [],
   "source": [
    "def sales_time(data):\n",
    "    \"\"\"Time interval of dataset:\"\"\"\n",
    "\n",
    "    data.date = pd.to_datetime(data.date)\n",
    "    n_of_days = data.date.max() - data.date.min()\n",
    "    n_of_years = int(n_of_days.days / 365)\n",
    "    \n",
    "    print(f\"Days: {n_of_days.days}\\nYears: {n_of_years}\\nMonth: {12 * n_of_years}\")\n"
   ]
  },
  {
   "cell_type": "code",
   "execution_count": 15,
   "id": "0a8e824d",
   "metadata": {
    "execution": {
     "iopub.execute_input": "2023-05-15T01:28:21.554002Z",
     "iopub.status.busy": "2023-05-15T01:28:21.553284Z",
     "iopub.status.idle": "2023-05-15T01:28:21.873688Z",
     "shell.execute_reply": "2023-05-15T01:28:21.872285Z"
    },
    "papermill": {
     "duration": 0.35365,
     "end_time": "2023-05-15T01:28:21.876618",
     "exception": false,
     "start_time": "2023-05-15T01:28:21.522968",
     "status": "completed"
    },
    "tags": []
   },
   "outputs": [
    {
     "name": "stdout",
     "output_type": "stream",
     "text": [
      "Days: 1825\n",
      "Years: 5\n",
      "Month: 60\n"
     ]
    }
   ],
   "source": [
    "sales_time(df_s)"
   ]
  },
  {
   "cell_type": "markdown",
   "id": "4e301119",
   "metadata": {
    "papermill": {
     "duration": 0.028154,
     "end_time": "2023-05-15T01:28:21.933879",
     "exception": false,
     "start_time": "2023-05-15T01:28:21.905725",
     "status": "completed"
    },
    "tags": []
   },
   "source": [
    "**Sales Data Per Store**"
   ]
  },
  {
   "cell_type": "code",
   "execution_count": 16,
   "id": "4721df83",
   "metadata": {
    "execution": {
     "iopub.execute_input": "2023-05-15T01:28:21.997390Z",
     "iopub.status.busy": "2023-05-15T01:28:21.996485Z",
     "iopub.status.idle": "2023-05-15T01:28:22.004704Z",
     "shell.execute_reply": "2023-05-15T01:28:22.003582Z"
    },
    "papermill": {
     "duration": 0.043089,
     "end_time": "2023-05-15T01:28:22.007657",
     "exception": false,
     "start_time": "2023-05-15T01:28:21.964568",
     "status": "completed"
    },
    "tags": []
   },
   "outputs": [],
   "source": [
    "# Let's sell it per store:\n",
    "\n",
    "def sales_per_store(data):\n",
    "    sales_by_store = data.groupby('store')['sales'].sum().reset_index()\n",
    "    \n",
    "    fig, ax = plt.subplots(figsize=(8,6))\n",
    "    sns.barplot(sales_by_store.store, sales_by_store.sales, color='darkred')\n",
    "    \n",
    "    ax.set(xlabel = \"Store Id\", ylabel = \"Sum of Sales\", title = \"Total Sales Per Store\")\n",
    "    \n",
    "    return sales_by_store\n",
    "    "
   ]
  },
  {
   "cell_type": "code",
   "execution_count": 17,
   "id": "a60df532",
   "metadata": {
    "execution": {
     "iopub.execute_input": "2023-05-15T01:28:22.069268Z",
     "iopub.status.busy": "2023-05-15T01:28:22.068389Z",
     "iopub.status.idle": "2023-05-15T01:28:22.414826Z",
     "shell.execute_reply": "2023-05-15T01:28:22.413337Z"
    },
    "papermill": {
     "duration": 0.380514,
     "end_time": "2023-05-15T01:28:22.417883",
     "exception": false,
     "start_time": "2023-05-15T01:28:22.037369",
     "status": "completed"
    },
    "tags": []
   },
   "outputs": [
    {
     "data": {
      "text/html": [
       "<div>\n",
       "<style scoped>\n",
       "    .dataframe tbody tr th:only-of-type {\n",
       "        vertical-align: middle;\n",
       "    }\n",
       "\n",
       "    .dataframe tbody tr th {\n",
       "        vertical-align: top;\n",
       "    }\n",
       "\n",
       "    .dataframe thead th {\n",
       "        text-align: right;\n",
       "    }\n",
       "</style>\n",
       "<table border=\"1\" class=\"dataframe\">\n",
       "  <thead>\n",
       "    <tr style=\"text-align: right;\">\n",
       "      <th></th>\n",
       "      <th>store</th>\n",
       "      <th>sales</th>\n",
       "    </tr>\n",
       "  </thead>\n",
       "  <tbody>\n",
       "    <tr>\n",
       "      <th>0</th>\n",
       "      <td>1</td>\n",
       "      <td>4315603</td>\n",
       "    </tr>\n",
       "    <tr>\n",
       "      <th>1</th>\n",
       "      <td>2</td>\n",
       "      <td>6120128</td>\n",
       "    </tr>\n",
       "    <tr>\n",
       "      <th>2</th>\n",
       "      <td>3</td>\n",
       "      <td>5435144</td>\n",
       "    </tr>\n",
       "    <tr>\n",
       "      <th>3</th>\n",
       "      <td>4</td>\n",
       "      <td>5012639</td>\n",
       "    </tr>\n",
       "    <tr>\n",
       "      <th>4</th>\n",
       "      <td>5</td>\n",
       "      <td>3631016</td>\n",
       "    </tr>\n",
       "    <tr>\n",
       "      <th>5</th>\n",
       "      <td>6</td>\n",
       "      <td>3627670</td>\n",
       "    </tr>\n",
       "    <tr>\n",
       "      <th>6</th>\n",
       "      <td>7</td>\n",
       "      <td>3320009</td>\n",
       "    </tr>\n",
       "    <tr>\n",
       "      <th>7</th>\n",
       "      <td>8</td>\n",
       "      <td>5856169</td>\n",
       "    </tr>\n",
       "    <tr>\n",
       "      <th>8</th>\n",
       "      <td>9</td>\n",
       "      <td>5025976</td>\n",
       "    </tr>\n",
       "    <tr>\n",
       "      <th>9</th>\n",
       "      <td>10</td>\n",
       "      <td>5360158</td>\n",
       "    </tr>\n",
       "  </tbody>\n",
       "</table>\n",
       "</div>"
      ],
      "text/plain": [
       "   store    sales\n",
       "0      1  4315603\n",
       "1      2  6120128\n",
       "2      3  5435144\n",
       "3      4  5012639\n",
       "4      5  3631016\n",
       "5      6  3627670\n",
       "6      7  3320009\n",
       "7      8  5856169\n",
       "8      9  5025976\n",
       "9     10  5360158"
      ]
     },
     "execution_count": 17,
     "metadata": {},
     "output_type": "execute_result"
    },
    {
     "data": {
      "image/png": "[encoded data removed]",
      "text/plain": [
       "<Figure size 576x432 with 1 Axes>"
      ]
     },
     "metadata": {
      "needs_background": "light"
     },
     "output_type": "display_data"
    }
   ],
   "source": [
    "sales_per_store(df_s)\n"
   ]
  },
  {
   "cell_type": "markdown",
   "id": "d9d5e7c8",
   "metadata": {
    "papermill": {
     "duration": 0.030751,
     "end_time": "2023-05-15T01:28:22.478609",
     "exception": false,
     "start_time": "2023-05-15T01:28:22.447858",
     "status": "completed"
    },
    "tags": []
   },
   "source": [
    "**Mean Monthly Sales**"
   ]
  },
  {
   "cell_type": "code",
   "execution_count": 18,
   "id": "e11c9e59",
   "metadata": {
    "execution": {
     "iopub.execute_input": "2023-05-15T01:28:22.539296Z",
     "iopub.status.busy": "2023-05-15T01:28:22.538857Z",
     "iopub.status.idle": "2023-05-15T01:28:22.547595Z",
     "shell.execute_reply": "2023-05-15T01:28:22.546319Z"
    },
    "papermill": {
     "duration": 0.042898,
     "end_time": "2023-05-15T01:28:22.551233",
     "exception": false,
     "start_time": "2023-05-15T01:28:22.508335",
     "status": "completed"
    },
    "tags": []
   },
   "outputs": [
    {
     "name": "stdout",
     "output_type": "stream",
     "text": [
      "Overall Avarage Monthly Sales: $795075.2\n",
      "Last 12 months average monthly sales: $894478.3333333334\n"
     ]
    }
   ],
   "source": [
    "# Overall for 5 years:\n",
    "\n",
    "average_m_sales = m_df.sales.mean()\n",
    "print(f\"Overall Avarage Monthly Sales: ${average_m_sales}\")\n",
    "\n",
    "def avarage_12months():\n",
    "# Last 1 years (this will be the forecasted sales):\n",
    "    average_m_sales_1y = m_df.sales[-12:].mean()\n",
    "    print(f\"Last 12 months average monthly sales: ${average_m_sales_1y}\")\n",
    "avarage_12months()"
   ]
  },
  {
   "cell_type": "markdown",
   "id": "610e0189",
   "metadata": {
    "papermill": {
     "duration": 0.029521,
     "end_time": "2023-05-15T01:28:22.614538",
     "exception": false,
     "start_time": "2023-05-15T01:28:22.585017",
     "status": "completed"
    },
    "tags": []
   },
   "source": [
    "# **Determining Time Series Stationary**"
   ]
  },
  {
   "cell_type": "markdown",
   "id": "5e2628d0",
   "metadata": {
    "papermill": {
     "duration": 0.029284,
     "end_time": "2023-05-15T01:28:22.673248",
     "exception": false,
     "start_time": "2023-05-15T01:28:22.643964",
     "status": "completed"
    },
    "tags": []
   },
   "source": [
    "The underlying principle is to model or estimate the trend and seasonality in the series and remove those from the series to get a stationary series. Then statistical forecasting techniques can be implemented in this series. The final step would be to convert the forecasted values into the original scale by applying trend and seasonality constraints back."
   ]
  },
  {
   "cell_type": "code",
   "execution_count": 19,
   "id": "07b0db04",
   "metadata": {
    "execution": {
     "iopub.execute_input": "2023-05-15T01:28:22.733604Z",
     "iopub.status.busy": "2023-05-15T01:28:22.733099Z",
     "iopub.status.idle": "2023-05-15T01:28:22.743316Z",
     "shell.execute_reply": "2023-05-15T01:28:22.742336Z"
    },
    "papermill": {
     "duration": 0.043632,
     "end_time": "2023-05-15T01:28:22.746114",
     "exception": false,
     "start_time": "2023-05-15T01:28:22.702482",
     "status": "completed"
    },
    "tags": []
   },
   "outputs": [],
   "source": [
    "def time_plot(data, x_col, y_col, title):\n",
    "    fig, ax = plt.subplots(figsize = (15,8))\n",
    "    sns.lineplot(x_col, y_col, data = data, ax = ax, color = 'darkblue', label='Total Sales')\n",
    "    \n",
    "    s_mean = data.groupby(data.date.dt.year)[y_col].mean().reset_index()\n",
    "    s_mean.date = pd.to_datetime(s_mean.date, format='%Y')\n",
    "    sns.lineplot((s_mean.date + datetime.timedelta(6*365/12)), y_col, data=s_mean, ax=ax, color='red', label='Mean Sales')   \n",
    "    \n",
    "    ax.set(xlabel = \"Years\",\n",
    "           ylabel = \"Sales\",\n",
    "           title = title)\n"
   ]
  },
  {
   "cell_type": "code",
   "execution_count": 20,
   "id": "dc198108",
   "metadata": {
    "execution": {
     "iopub.execute_input": "2023-05-15T01:28:22.808345Z",
     "iopub.status.busy": "2023-05-15T01:28:22.807472Z",
     "iopub.status.idle": "2023-05-15T01:28:23.235777Z",
     "shell.execute_reply": "2023-05-15T01:28:23.234232Z"
    },
    "papermill": {
     "duration": 0.46183,
     "end_time": "2023-05-15T01:28:23.238792",
     "exception": false,
     "start_time": "2023-05-15T01:28:22.776962",
     "status": "completed"
    },
    "tags": []
   },
   "outputs": [
    {
     "data": {
      "image/png": "[encoded data removed]",
      "text/plain": [
       "<Figure size 1080x576 with 1 Axes>"
      ]
     },
     "metadata": {
      "needs_background": "light"
     },
     "output_type": "display_data"
    }
   ],
   "source": [
    "time_plot(m_df, 'date', 'sales', 'Monthly Sales Before Diff Transformation' )"
   ]
  },
  {
   "cell_type": "markdown",
   "id": "4ea52b50",
   "metadata": {
    "papermill": {
     "duration": 0.029694,
     "end_time": "2023-05-15T01:28:23.299682",
     "exception": false,
     "start_time": "2023-05-15T01:28:23.269988",
     "status": "completed"
    },
    "tags": []
   },
   "source": [
    "* **Differencing**\n",
    "\n",
    "In this method, we compute the difference of consecutive terms in the series. Differencing is typically performed to get rid of the varying mean. "
   ]
  },
  {
   "cell_type": "code",
   "execution_count": 21,
   "id": "8da5b616",
   "metadata": {
    "execution": {
     "iopub.execute_input": "2023-05-15T01:28:23.361681Z",
     "iopub.status.busy": "2023-05-15T01:28:23.361214Z",
     "iopub.status.idle": "2023-05-15T01:28:23.368369Z",
     "shell.execute_reply": "2023-05-15T01:28:23.366967Z"
    },
    "papermill": {
     "duration": 0.041201,
     "end_time": "2023-05-15T01:28:23.371004",
     "exception": false,
     "start_time": "2023-05-15T01:28:23.329803",
     "status": "completed"
    },
    "tags": []
   },
   "outputs": [],
   "source": [
    "def get_diff(data):\n",
    "    \"\"\"Calculate the difference in sales month over month:\"\"\"\n",
    "    \n",
    "    data['sales_diff'] = data.sales.diff()\n",
    "    data = data.dropna()\n",
    "    \n",
    "    data.to_csv('./stationary_df.csv')\n",
    "    \n",
    "    return data\n"
   ]
  },
  {
   "cell_type": "code",
   "execution_count": 22,
   "id": "cf2033a0",
   "metadata": {
    "execution": {
     "iopub.execute_input": "2023-05-15T01:28:23.436774Z",
     "iopub.status.busy": "2023-05-15T01:28:23.435920Z",
     "iopub.status.idle": "2023-05-15T01:28:23.868879Z",
     "shell.execute_reply": "2023-05-15T01:28:23.867483Z"
    },
    "papermill": {
     "duration": 0.470063,
     "end_time": "2023-05-15T01:28:23.871819",
     "exception": false,
     "start_time": "2023-05-15T01:28:23.401756",
     "status": "completed"
    },
    "tags": []
   },
   "outputs": [
    {
     "data": {
      "image/png": "[encoded data removed]",
      "text/plain": [
       "<Figure size 1080x576 with 1 Axes>"
      ]
     },
     "metadata": {
      "needs_background": "light"
     },
     "output_type": "display_data"
    }
   ],
   "source": [
    "stationary_df = get_diff(m_df)\n",
    "time_plot(stationary_df, 'date', 'sales_diff', \n",
    "          'Monthly Sales After Diff Transformation')"
   ]
  },
  {
   "cell_type": "markdown",
   "id": "7a4c5b80",
   "metadata": {
    "papermill": {
     "duration": 0.031709,
     "end_time": "2023-05-15T01:28:23.935264",
     "exception": false,
     "start_time": "2023-05-15T01:28:23.903555",
     "status": "completed"
    },
    "tags": []
   },
   "source": [
    "<div class=\"alert alert-block alert-danger\" style =\"background-color : #e6ebef;\">\n",
    "    <h5 style=\"padding: 15px;\n",
    "              color:black;\">📌 Now that our data represent monthly sales and we have transformed it to be stationary, we will set up the \n",
    "                            data for our different model types. <br> <br>\n",
    "              ✔ To do this, we will \n",
    "                            define two different structures: \n",
    "        <br> <br>\n",
    "                    1. one will be used for ARIMA modeling,\n",
    "        <br><br>\n",
    "                    2. the other will be used for the rest of the models.\n",
    "    </h5>\n",
    "</div>\n",
    "\n"
   ]
  },
  {
   "cell_type": "markdown",
   "id": "5d999679",
   "metadata": {
    "papermill": {
     "duration": 0.031819,
     "end_time": "2023-05-15T01:28:23.999232",
     "exception": false,
     "start_time": "2023-05-15T01:28:23.967413",
     "status": "completed"
    },
    "tags": []
   },
   "source": [
    "# **Preparing Dataset Modeling**"
   ]
  },
  {
   "cell_type": "markdown",
   "id": "fa402656",
   "metadata": {
    "papermill": {
     "duration": 0.03211,
     "end_time": "2023-05-15T01:28:24.066577",
     "exception": false,
     "start_time": "2023-05-15T01:28:24.034467",
     "status": "completed"
    },
    "tags": []
   },
   "source": [
    "# ARIMA Modeling\n",
    "\n",
    ">  For our Arima model, we will need only a datetime index and the dependent variable (diff in sales) columns."
   ]
  },
  {
   "cell_type": "code",
   "execution_count": 23,
   "id": "615ef371",
   "metadata": {
    "execution": {
     "iopub.execute_input": "2023-05-15T01:28:24.133345Z",
     "iopub.status.busy": "2023-05-15T01:28:24.132601Z",
     "iopub.status.idle": "2023-05-15T01:28:24.139888Z",
     "shell.execute_reply": "2023-05-15T01:28:24.138511Z"
    },
    "papermill": {
     "duration": 0.043247,
     "end_time": "2023-05-15T01:28:24.142964",
     "exception": false,
     "start_time": "2023-05-15T01:28:24.099717",
     "status": "completed"
    },
    "tags": []
   },
   "outputs": [],
   "source": [
    "def build_arima_data(data):\n",
    "    \"\"\"Generates a csv-file with a datetime index and a dependent sales column for ARIMA modeling.\"\"\"\n",
    "    \n",
    "    da_data = data.set_index('date').drop('sales', axis=1)\n",
    "    da_data.dropna(axis=0)\n",
    "    \n",
    "    da_data.to_csv('./arima_df.csv')\n",
    "    \n",
    "    return da_data\n"
   ]
  },
  {
   "cell_type": "code",
   "execution_count": 24,
   "id": "30b87924",
   "metadata": {
    "execution": {
     "iopub.execute_input": "2023-05-15T01:28:24.208904Z",
     "iopub.status.busy": "2023-05-15T01:28:24.207757Z",
     "iopub.status.idle": "2023-05-15T01:28:24.234507Z",
     "shell.execute_reply": "2023-05-15T01:28:24.233136Z"
    },
    "papermill": {
     "duration": 0.062177,
     "end_time": "2023-05-15T01:28:24.237164",
     "exception": false,
     "start_time": "2023-05-15T01:28:24.174987",
     "status": "completed"
    },
    "tags": []
   },
   "outputs": [
    {
     "data": {
      "text/html": [
       "<div>\n",
       "<style scoped>\n",
       "    .dataframe tbody tr th:only-of-type {\n",
       "        vertical-align: middle;\n",
       "    }\n",
       "\n",
       "    .dataframe tbody tr th {\n",
       "        vertical-align: top;\n",
       "    }\n",
       "\n",
       "    .dataframe thead th {\n",
       "        text-align: right;\n",
       "    }\n",
       "</style>\n",
       "<table border=\"1\" class=\"dataframe\">\n",
       "  <thead>\n",
       "    <tr style=\"text-align: right;\">\n",
       "      <th></th>\n",
       "      <th>sales_diff</th>\n",
       "    </tr>\n",
       "    <tr>\n",
       "      <th>date</th>\n",
       "      <th></th>\n",
       "    </tr>\n",
       "  </thead>\n",
       "  <tbody>\n",
       "    <tr>\n",
       "      <th>2013-02-01</th>\n",
       "      <td>4513.0</td>\n",
       "    </tr>\n",
       "    <tr>\n",
       "      <th>2013-03-01</th>\n",
       "      <td>157965.0</td>\n",
       "    </tr>\n",
       "    <tr>\n",
       "      <th>2013-04-01</th>\n",
       "      <td>64892.0</td>\n",
       "    </tr>\n",
       "    <tr>\n",
       "      <th>2013-05-01</th>\n",
       "      <td>80968.0</td>\n",
       "    </tr>\n",
       "    <tr>\n",
       "      <th>2013-06-01</th>\n",
       "      <td>32355.0</td>\n",
       "    </tr>\n",
       "    <tr>\n",
       "      <th>2013-07-01</th>\n",
       "      <td>60325.0</td>\n",
       "    </tr>\n",
       "    <tr>\n",
       "      <th>2013-08-01</th>\n",
       "      <td>-89161.0</td>\n",
       "    </tr>\n",
       "    <tr>\n",
       "      <th>2013-09-01</th>\n",
       "      <td>-76854.0</td>\n",
       "    </tr>\n",
       "    <tr>\n",
       "      <th>2013-10-01</th>\n",
       "      <td>-33320.0</td>\n",
       "    </tr>\n",
       "    <tr>\n",
       "      <th>2013-11-01</th>\n",
       "      <td>36056.0</td>\n",
       "    </tr>\n",
       "    <tr>\n",
       "      <th>2013-12-01</th>\n",
       "      <td>-186036.0</td>\n",
       "    </tr>\n",
       "    <tr>\n",
       "      <th>2014-01-01</th>\n",
       "      <td>19380.0</td>\n",
       "    </tr>\n",
       "    <tr>\n",
       "      <th>2014-02-01</th>\n",
       "      <td>3130.0</td>\n",
       "    </tr>\n",
       "    <tr>\n",
       "      <th>2014-03-01</th>\n",
       "      <td>175184.0</td>\n",
       "    </tr>\n",
       "    <tr>\n",
       "      <th>2014-04-01</th>\n",
       "      <td>84613.0</td>\n",
       "    </tr>\n",
       "    <tr>\n",
       "      <th>2014-05-01</th>\n",
       "      <td>93963.0</td>\n",
       "    </tr>\n",
       "    <tr>\n",
       "      <th>2014-06-01</th>\n",
       "      <td>23965.0</td>\n",
       "    </tr>\n",
       "    <tr>\n",
       "      <th>2014-07-01</th>\n",
       "      <td>82168.0</td>\n",
       "    </tr>\n",
       "    <tr>\n",
       "      <th>2014-08-01</th>\n",
       "      <td>-103414.0</td>\n",
       "    </tr>\n",
       "    <tr>\n",
       "      <th>2014-09-01</th>\n",
       "      <td>-100472.0</td>\n",
       "    </tr>\n",
       "    <tr>\n",
       "      <th>2014-10-01</th>\n",
       "      <td>-26241.0</td>\n",
       "    </tr>\n",
       "    <tr>\n",
       "      <th>2014-11-01</th>\n",
       "      <td>41900.0</td>\n",
       "    </tr>\n",
       "    <tr>\n",
       "      <th>2014-12-01</th>\n",
       "      <td>-222735.0</td>\n",
       "    </tr>\n",
       "    <tr>\n",
       "      <th>2015-01-01</th>\n",
       "      <td>-25535.0</td>\n",
       "    </tr>\n",
       "    <tr>\n",
       "      <th>2015-02-01</th>\n",
       "      <td>-1196.0</td>\n",
       "    </tr>\n",
       "    <tr>\n",
       "      <th>2015-03-01</th>\n",
       "      <td>179634.0</td>\n",
       "    </tr>\n",
       "    <tr>\n",
       "      <th>2015-04-01</th>\n",
       "      <td>93516.0</td>\n",
       "    </tr>\n",
       "    <tr>\n",
       "      <th>2015-05-01</th>\n",
       "      <td>102435.0</td>\n",
       "    </tr>\n",
       "    <tr>\n",
       "      <th>2015-06-01</th>\n",
       "      <td>10282.0</td>\n",
       "    </tr>\n",
       "    <tr>\n",
       "      <th>2015-07-01</th>\n",
       "      <td>100166.0</td>\n",
       "    </tr>\n",
       "    <tr>\n",
       "      <th>2015-08-01</th>\n",
       "      <td>-116949.0</td>\n",
       "    </tr>\n",
       "    <tr>\n",
       "      <th>2015-09-01</th>\n",
       "      <td>-97069.0</td>\n",
       "    </tr>\n",
       "    <tr>\n",
       "      <th>2015-10-01</th>\n",
       "      <td>-26079.0</td>\n",
       "    </tr>\n",
       "    <tr>\n",
       "      <th>2015-11-01</th>\n",
       "      <td>30392.0</td>\n",
       "    </tr>\n",
       "    <tr>\n",
       "      <th>2015-12-01</th>\n",
       "      <td>-220073.0</td>\n",
       "    </tr>\n",
       "    <tr>\n",
       "      <th>2016-01-01</th>\n",
       "      <td>-5133.0</td>\n",
       "    </tr>\n",
       "    <tr>\n",
       "      <th>2016-02-01</th>\n",
       "      <td>12518.0</td>\n",
       "    </tr>\n",
       "    <tr>\n",
       "      <th>2016-03-01</th>\n",
       "      <td>175924.0</td>\n",
       "    </tr>\n",
       "    <tr>\n",
       "      <th>2016-04-01</th>\n",
       "      <td>111069.0</td>\n",
       "    </tr>\n",
       "    <tr>\n",
       "      <th>2016-05-01</th>\n",
       "      <td>86780.0</td>\n",
       "    </tr>\n",
       "    <tr>\n",
       "      <th>2016-06-01</th>\n",
       "      <td>33934.0</td>\n",
       "    </tr>\n",
       "    <tr>\n",
       "      <th>2016-07-01</th>\n",
       "      <td>116054.0</td>\n",
       "    </tr>\n",
       "    <tr>\n",
       "      <th>2016-08-01</th>\n",
       "      <td>-157224.0</td>\n",
       "    </tr>\n",
       "    <tr>\n",
       "      <th>2016-09-01</th>\n",
       "      <td>-84663.0</td>\n",
       "    </tr>\n",
       "    <tr>\n",
       "      <th>2016-10-01</th>\n",
       "      <td>-33194.0</td>\n",
       "    </tr>\n",
       "    <tr>\n",
       "      <th>2016-11-01</th>\n",
       "      <td>27811.0</td>\n",
       "    </tr>\n",
       "    <tr>\n",
       "      <th>2016-12-01</th>\n",
       "      <td>-228037.0</td>\n",
       "    </tr>\n",
       "    <tr>\n",
       "      <th>2017-01-01</th>\n",
       "      <td>-46105.0</td>\n",
       "    </tr>\n",
       "    <tr>\n",
       "      <th>2017-02-01</th>\n",
       "      <td>4063.0</td>\n",
       "    </tr>\n",
       "    <tr>\n",
       "      <th>2017-03-01</th>\n",
       "      <td>201298.0</td>\n",
       "    </tr>\n",
       "    <tr>\n",
       "      <th>2017-04-01</th>\n",
       "      <td>116195.0</td>\n",
       "    </tr>\n",
       "    <tr>\n",
       "      <th>2017-05-01</th>\n",
       "      <td>81824.0</td>\n",
       "    </tr>\n",
       "    <tr>\n",
       "      <th>2017-06-01</th>\n",
       "      <td>43938.0</td>\n",
       "    </tr>\n",
       "    <tr>\n",
       "      <th>2017-07-01</th>\n",
       "      <td>106769.0</td>\n",
       "    </tr>\n",
       "    <tr>\n",
       "      <th>2017-08-01</th>\n",
       "      <td>-144990.0</td>\n",
       "    </tr>\n",
       "    <tr>\n",
       "      <th>2017-09-01</th>\n",
       "      <td>-91140.0</td>\n",
       "    </tr>\n",
       "    <tr>\n",
       "      <th>2017-10-01</th>\n",
       "      <td>-44103.0</td>\n",
       "    </tr>\n",
       "    <tr>\n",
       "      <th>2017-11-01</th>\n",
       "      <td>37677.0</td>\n",
       "    </tr>\n",
       "    <tr>\n",
       "      <th>2017-12-01</th>\n",
       "      <td>-233667.0</td>\n",
       "    </tr>\n",
       "  </tbody>\n",
       "</table>\n",
       "</div>"
      ],
      "text/plain": [
       "            sales_diff\n",
       "date                  \n",
       "2013-02-01      4513.0\n",
       "2013-03-01    157965.0\n",
       "2013-04-01     64892.0\n",
       "2013-05-01     80968.0\n",
       "2013-06-01     32355.0\n",
       "2013-07-01     60325.0\n",
       "2013-08-01    -89161.0\n",
       "2013-09-01    -76854.0\n",
       "2013-10-01    -33320.0\n",
       "2013-11-01     36056.0\n",
       "2013-12-01   -186036.0\n",
       "2014-01-01     19380.0\n",
       "2014-02-01      3130.0\n",
       "2014-03-01    175184.0\n",
       "2014-04-01     84613.0\n",
       "2014-05-01     93963.0\n",
       "2014-06-01     23965.0\n",
       "2014-07-01     82168.0\n",
       "2014-08-01   -103414.0\n",
       "2014-09-01   -100472.0\n",
       "2014-10-01    -26241.0\n",
       "2014-11-01     41900.0\n",
       "2014-12-01   -222735.0\n",
       "2015-01-01    -25535.0\n",
       "2015-02-01     -1196.0\n",
       "2015-03-01    179634.0\n",
       "2015-04-01     93516.0\n",
       "2015-05-01    102435.0\n",
       "2015-06-01     10282.0\n",
       "2015-07-01    100166.0\n",
       "2015-08-01   -116949.0\n",
       "2015-09-01    -97069.0\n",
       "2015-10-01    -26079.0\n",
       "2015-11-01     30392.0\n",
       "2015-12-01   -220073.0\n",
       "2016-01-01     -5133.0\n",
       "2016-02-01     12518.0\n",
       "2016-03-01    175924.0\n",
       "2016-04-01    111069.0\n",
       "2016-05-01     86780.0\n",
       "2016-06-01     33934.0\n",
       "2016-07-01    116054.0\n",
       "2016-08-01   -157224.0\n",
       "2016-09-01    -84663.0\n",
       "2016-10-01    -33194.0\n",
       "2016-11-01     27811.0\n",
       "2016-12-01   -228037.0\n",
       "2017-01-01    -46105.0\n",
       "2017-02-01      4063.0\n",
       "2017-03-01    201298.0\n",
       "2017-04-01    116195.0\n",
       "2017-05-01     81824.0\n",
       "2017-06-01     43938.0\n",
       "2017-07-01    106769.0\n",
       "2017-08-01   -144990.0\n",
       "2017-09-01    -91140.0\n",
       "2017-10-01    -44103.0\n",
       "2017-11-01     37677.0\n",
       "2017-12-01   -233667.0"
      ]
     },
     "execution_count": 24,
     "metadata": {},
     "output_type": "execute_result"
    }
   ],
   "source": [
    "datatime_df = build_arima_data(stationary_df)\n",
    "datatime_df # ARIMA Dataframe"
   ]
  },
  {
   "cell_type": "markdown",
   "id": "d5f26d6f",
   "metadata": {
    "papermill": {
     "duration": 0.031759,
     "end_time": "2023-05-15T01:28:24.300862",
     "exception": false,
     "start_time": "2023-05-15T01:28:24.269103",
     "status": "completed"
    },
    "tags": []
   },
   "source": [
    "* **Observing Lags**"
   ]
  },
  {
   "cell_type": "markdown",
   "id": "6e584ba9",
   "metadata": {
    "papermill": {
     "duration": 0.031474,
     "end_time": "2023-05-15T01:28:24.364385",
     "exception": false,
     "start_time": "2023-05-15T01:28:24.332911",
     "status": "completed"
    },
    "tags": []
   },
   "source": [
    "For our other models, we will create a new data frame where each feature represents a previous month’s sales. To determine how many months to include in our feature set, we will observe the autocorrelation and partial autocorrelation plots and use the [rules for selecting lags in ARIMA modeling](https://people.duke.edu/~rnau/arimrule.htm). This way, we can keep consistent a look-back period for our ARIMA and regressive models.\n",
    "\n",
    ">  **[Statsmodels](https://www.statsmodels.org/dev/generated/statsmodels.graphics.tsaplots.plot_acf.html)**\n",
    "\n"
   ]
  },
  {
   "cell_type": "code",
   "execution_count": 25,
   "id": "f1bfc448",
   "metadata": {
    "execution": {
     "iopub.execute_input": "2023-05-15T01:28:24.430920Z",
     "iopub.status.busy": "2023-05-15T01:28:24.429635Z",
     "iopub.status.idle": "2023-05-15T01:28:25.157678Z",
     "shell.execute_reply": "2023-05-15T01:28:25.156181Z"
    },
    "papermill": {
     "duration": 0.764383,
     "end_time": "2023-05-15T01:28:25.160732",
     "exception": false,
     "start_time": "2023-05-15T01:28:24.396349",
     "status": "completed"
    },
    "tags": []
   },
   "outputs": [
    {
     "data": {
      "image/png": "[encoded data removed]",
      "text/plain": [
       "<Figure size 720x360 with 3 Axes>"
      ]
     },
     "metadata": {
      "needs_background": "light"
     },
     "output_type": "display_data"
    }
   ],
   "source": [
    "def plots_lag(data, lags=None):\n",
    "    \"\"\"Convert dataframe to datetime index\"\"\"\n",
    "    dt_data = data.set_index('date').drop('sales', axis=1)\n",
    "    dt_data.dropna(axis=0)\n",
    "    \n",
    "    \n",
    "    law  = plt.subplot(122)\n",
    "    acf  = plt.subplot(221)\n",
    "    pacf = plt.subplot(223)\n",
    "    \n",
    "    dt_data.plot(ax=law, figsize=(10, 5), color='orange')\n",
    "    # Plot the autocorrelation function:\n",
    "    smt.graphics.plot_acf(dt_data, lags=lags, ax=acf, color='mediumblue')\n",
    "    smt.graphics.plot_pacf(dt_data, lags=lags, ax=pacf, color='mediumblue')\n",
    "    \n",
    "    # Will also adjust spacing between subplots to minimize the overlaps:\n",
    "    plt.tight_layout()\n",
    "\n",
    "plots_lag(stationary_df, lags=24);\n",
    "    \n",
    "    "
   ]
  },
  {
   "cell_type": "markdown",
   "id": "54274aa9",
   "metadata": {
    "papermill": {
     "duration": 0.032784,
     "end_time": "2023-05-15T01:28:25.228005",
     "exception": false,
     "start_time": "2023-05-15T01:28:25.195221",
     "status": "completed"
    },
    "tags": []
   },
   "source": [
    "\n",
    "> [🎦 Autocorrelation Function](https://www.youtube.com/watch?v=ZjaBn93YPWo&t=12s)\n",
    "\n",
    "\n",
    ">[ Time Series & Autocorrelation](https://online.stat.psu.edu/stat501/book/export/html/995 )\n"
   ]
  },
  {
   "cell_type": "markdown",
   "id": "d5e9faa2",
   "metadata": {
    "papermill": {
     "duration": 0.032833,
     "end_time": "2023-05-15T01:28:25.293955",
     "exception": false,
     "start_time": "2023-05-15T01:28:25.261122",
     "status": "completed"
    },
    "tags": []
   },
   "source": [
    "<div class=\"alert alert-block alert-danger\" style =\"background-color : #e6ebef;\">\n",
    "    <p style=\"padding: 15px;\n",
    "              color:black;\">📌 Based on the above, we will choose our look-back period to be 12 months. We will, therefore, generate a data frame that has 13 columns, 1 column for each of the 12 months and the column for our dependent variable, difference in sales.\n",
    "    </p>\n",
    "</div>\n"
   ]
  },
  {
   "cell_type": "markdown",
   "id": "10773cfe",
   "metadata": {
    "papermill": {
     "duration": 0.032675,
     "end_time": "2023-05-15T01:28:25.359618",
     "exception": false,
     "start_time": "2023-05-15T01:28:25.326943",
     "status": "completed"
    },
    "tags": []
   },
   "source": [
    "# Regressive Modeling\n",
    "\n",
    "> Let's create a CSV file where each row represents a month and the columns will have sales, dependent variables, and previous sales for each delay. The 12 delay properties are created according to the EDA. Data is used for regression modeling.\n",
    "\n",
    "\n",
    "Code was taken from [Baris Karaman’s 'Data Driven Growth' series.](https://towardsdatascience.com/predicting-sales-611cb5a252de)"
   ]
  },
  {
   "cell_type": "code",
   "execution_count": 26,
   "id": "8ef24623",
   "metadata": {
    "execution": {
     "iopub.execute_input": "2023-05-15T01:28:25.427439Z",
     "iopub.status.busy": "2023-05-15T01:28:25.426987Z",
     "iopub.status.idle": "2023-05-15T01:28:25.434845Z",
     "shell.execute_reply": "2023-05-15T01:28:25.433695Z"
    },
    "papermill": {
     "duration": 0.044711,
     "end_time": "2023-05-15T01:28:25.437522",
     "exception": false,
     "start_time": "2023-05-15T01:28:25.392811",
     "status": "completed"
    },
    "tags": []
   },
   "outputs": [],
   "source": [
    "# Let's create a data frame for transformation from time series to supervised:\n",
    "\n",
    "def built_supervised(data):\n",
    "    supervised_df = data.copy()\n",
    "\n",
    "    # Create column for each lag:\n",
    "    for i in range(1, 13):\n",
    "        col_name = 'lag_' + str(i)\n",
    "        supervised_df[col_name] = supervised_df['sales_diff'].shift(i)\n",
    "\n",
    "    # Drop null values:\n",
    "    supervised_df = supervised_df.dropna().reset_index(drop=True)\n",
    "\n",
    "    supervised_df.to_csv('./model_df.csv', index=False)\n",
    "    \n",
    "    return supervised_df\n",
    "    "
   ]
  },
  {
   "cell_type": "code",
   "execution_count": 27,
   "id": "e67590d4",
   "metadata": {
    "execution": {
     "iopub.execute_input": "2023-05-15T01:28:25.505544Z",
     "iopub.status.busy": "2023-05-15T01:28:25.505089Z",
     "iopub.status.idle": "2023-05-15T01:28:25.618728Z",
     "shell.execute_reply": "2023-05-15T01:28:25.617266Z"
    },
    "papermill": {
     "duration": 0.15157,
     "end_time": "2023-05-15T01:28:25.622047",
     "exception": false,
     "start_time": "2023-05-15T01:28:25.470477",
     "status": "completed"
    },
    "tags": []
   },
   "outputs": [
    {
     "data": {
      "text/html": [
       "<div>\n",
       "<style scoped>\n",
       "    .dataframe tbody tr th:only-of-type {\n",
       "        vertical-align: middle;\n",
       "    }\n",
       "\n",
       "    .dataframe tbody tr th {\n",
       "        vertical-align: top;\n",
       "    }\n",
       "\n",
       "    .dataframe thead th {\n",
       "        text-align: right;\n",
       "    }\n",
       "</style>\n",
       "<table border=\"1\" class=\"dataframe\">\n",
       "  <thead>\n",
       "    <tr style=\"text-align: right;\">\n",
       "      <th></th>\n",
       "      <th>date</th>\n",
       "      <th>sales</th>\n",
       "      <th>sales_diff</th>\n",
       "      <th>lag_1</th>\n",
       "      <th>lag_2</th>\n",
       "      <th>lag_3</th>\n",
       "      <th>lag_4</th>\n",
       "      <th>lag_5</th>\n",
       "      <th>lag_6</th>\n",
       "      <th>lag_7</th>\n",
       "      <th>lag_8</th>\n",
       "      <th>lag_9</th>\n",
       "      <th>lag_10</th>\n",
       "      <th>lag_11</th>\n",
       "      <th>lag_12</th>\n",
       "    </tr>\n",
       "  </thead>\n",
       "  <tbody>\n",
       "    <tr>\n",
       "      <th>0</th>\n",
       "      <td>2014-02-01</td>\n",
       "      <td>529117</td>\n",
       "      <td>3130.0</td>\n",
       "      <td>19380.0</td>\n",
       "      <td>-186036.0</td>\n",
       "      <td>36056.0</td>\n",
       "      <td>-33320.0</td>\n",
       "      <td>-76854.0</td>\n",
       "      <td>-89161.0</td>\n",
       "      <td>60325.0</td>\n",
       "      <td>32355.0</td>\n",
       "      <td>80968.0</td>\n",
       "      <td>64892.0</td>\n",
       "      <td>157965.0</td>\n",
       "      <td>4513.0</td>\n",
       "    </tr>\n",
       "    <tr>\n",
       "      <th>1</th>\n",
       "      <td>2014-03-01</td>\n",
       "      <td>704301</td>\n",
       "      <td>175184.0</td>\n",
       "      <td>3130.0</td>\n",
       "      <td>19380.0</td>\n",
       "      <td>-186036.0</td>\n",
       "      <td>36056.0</td>\n",
       "      <td>-33320.0</td>\n",
       "      <td>-76854.0</td>\n",
       "      <td>-89161.0</td>\n",
       "      <td>60325.0</td>\n",
       "      <td>32355.0</td>\n",
       "      <td>80968.0</td>\n",
       "      <td>64892.0</td>\n",
       "      <td>157965.0</td>\n",
       "    </tr>\n",
       "    <tr>\n",
       "      <th>2</th>\n",
       "      <td>2014-04-01</td>\n",
       "      <td>788914</td>\n",
       "      <td>84613.0</td>\n",
       "      <td>175184.0</td>\n",
       "      <td>3130.0</td>\n",
       "      <td>19380.0</td>\n",
       "      <td>-186036.0</td>\n",
       "      <td>36056.0</td>\n",
       "      <td>-33320.0</td>\n",
       "      <td>-76854.0</td>\n",
       "      <td>-89161.0</td>\n",
       "      <td>60325.0</td>\n",
       "      <td>32355.0</td>\n",
       "      <td>80968.0</td>\n",
       "      <td>64892.0</td>\n",
       "    </tr>\n",
       "    <tr>\n",
       "      <th>3</th>\n",
       "      <td>2014-05-01</td>\n",
       "      <td>882877</td>\n",
       "      <td>93963.0</td>\n",
       "      <td>84613.0</td>\n",
       "      <td>175184.0</td>\n",
       "      <td>3130.0</td>\n",
       "      <td>19380.0</td>\n",
       "      <td>-186036.0</td>\n",
       "      <td>36056.0</td>\n",
       "      <td>-33320.0</td>\n",
       "      <td>-76854.0</td>\n",
       "      <td>-89161.0</td>\n",
       "      <td>60325.0</td>\n",
       "      <td>32355.0</td>\n",
       "      <td>80968.0</td>\n",
       "    </tr>\n",
       "    <tr>\n",
       "      <th>4</th>\n",
       "      <td>2014-06-01</td>\n",
       "      <td>906842</td>\n",
       "      <td>23965.0</td>\n",
       "      <td>93963.0</td>\n",
       "      <td>84613.0</td>\n",
       "      <td>175184.0</td>\n",
       "      <td>3130.0</td>\n",
       "      <td>19380.0</td>\n",
       "      <td>-186036.0</td>\n",
       "      <td>36056.0</td>\n",
       "      <td>-33320.0</td>\n",
       "      <td>-76854.0</td>\n",
       "      <td>-89161.0</td>\n",
       "      <td>60325.0</td>\n",
       "      <td>32355.0</td>\n",
       "    </tr>\n",
       "    <tr>\n",
       "      <th>5</th>\n",
       "      <td>2014-07-01</td>\n",
       "      <td>989010</td>\n",
       "      <td>82168.0</td>\n",
       "      <td>23965.0</td>\n",
       "      <td>93963.0</td>\n",
       "      <td>84613.0</td>\n",
       "      <td>175184.0</td>\n",
       "      <td>3130.0</td>\n",
       "      <td>19380.0</td>\n",
       "      <td>-186036.0</td>\n",
       "      <td>36056.0</td>\n",
       "      <td>-33320.0</td>\n",
       "      <td>-76854.0</td>\n",
       "      <td>-89161.0</td>\n",
       "      <td>60325.0</td>\n",
       "    </tr>\n",
       "    <tr>\n",
       "      <th>6</th>\n",
       "      <td>2014-08-01</td>\n",
       "      <td>885596</td>\n",
       "      <td>-103414.0</td>\n",
       "      <td>82168.0</td>\n",
       "      <td>23965.0</td>\n",
       "      <td>93963.0</td>\n",
       "      <td>84613.0</td>\n",
       "      <td>175184.0</td>\n",
       "      <td>3130.0</td>\n",
       "      <td>19380.0</td>\n",
       "      <td>-186036.0</td>\n",
       "      <td>36056.0</td>\n",
       "      <td>-33320.0</td>\n",
       "      <td>-76854.0</td>\n",
       "      <td>-89161.0</td>\n",
       "    </tr>\n",
       "    <tr>\n",
       "      <th>7</th>\n",
       "      <td>2014-09-01</td>\n",
       "      <td>785124</td>\n",
       "      <td>-100472.0</td>\n",
       "      <td>-103414.0</td>\n",
       "      <td>82168.0</td>\n",
       "      <td>23965.0</td>\n",
       "      <td>93963.0</td>\n",
       "      <td>84613.0</td>\n",
       "      <td>175184.0</td>\n",
       "      <td>3130.0</td>\n",
       "      <td>19380.0</td>\n",
       "      <td>-186036.0</td>\n",
       "      <td>36056.0</td>\n",
       "      <td>-33320.0</td>\n",
       "      <td>-76854.0</td>\n",
       "    </tr>\n",
       "    <tr>\n",
       "      <th>8</th>\n",
       "      <td>2014-10-01</td>\n",
       "      <td>758883</td>\n",
       "      <td>-26241.0</td>\n",
       "      <td>-100472.0</td>\n",
       "      <td>-103414.0</td>\n",
       "      <td>82168.0</td>\n",
       "      <td>23965.0</td>\n",
       "      <td>93963.0</td>\n",
       "      <td>84613.0</td>\n",
       "      <td>175184.0</td>\n",
       "      <td>3130.0</td>\n",
       "      <td>19380.0</td>\n",
       "      <td>-186036.0</td>\n",
       "      <td>36056.0</td>\n",
       "      <td>-33320.0</td>\n",
       "    </tr>\n",
       "    <tr>\n",
       "      <th>9</th>\n",
       "      <td>2014-11-01</td>\n",
       "      <td>800783</td>\n",
       "      <td>41900.0</td>\n",
       "      <td>-26241.0</td>\n",
       "      <td>-100472.0</td>\n",
       "      <td>-103414.0</td>\n",
       "      <td>82168.0</td>\n",
       "      <td>23965.0</td>\n",
       "      <td>93963.0</td>\n",
       "      <td>84613.0</td>\n",
       "      <td>175184.0</td>\n",
       "      <td>3130.0</td>\n",
       "      <td>19380.0</td>\n",
       "      <td>-186036.0</td>\n",
       "      <td>36056.0</td>\n",
       "    </tr>\n",
       "    <tr>\n",
       "      <th>10</th>\n",
       "      <td>2014-12-01</td>\n",
       "      <td>578048</td>\n",
       "      <td>-222735.0</td>\n",
       "      <td>41900.0</td>\n",
       "      <td>-26241.0</td>\n",
       "      <td>-100472.0</td>\n",
       "      <td>-103414.0</td>\n",
       "      <td>82168.0</td>\n",
       "      <td>23965.0</td>\n",
       "      <td>93963.0</td>\n",
       "      <td>84613.0</td>\n",
       "      <td>175184.0</td>\n",
       "      <td>3130.0</td>\n",
       "      <td>19380.0</td>\n",
       "      <td>-186036.0</td>\n",
       "    </tr>\n",
       "    <tr>\n",
       "      <th>11</th>\n",
       "      <td>2015-01-01</td>\n",
       "      <td>552513</td>\n",
       "      <td>-25535.0</td>\n",
       "      <td>-222735.0</td>\n",
       "      <td>41900.0</td>\n",
       "      <td>-26241.0</td>\n",
       "      <td>-100472.0</td>\n",
       "      <td>-103414.0</td>\n",
       "      <td>82168.0</td>\n",
       "      <td>23965.0</td>\n",
       "      <td>93963.0</td>\n",
       "      <td>84613.0</td>\n",
       "      <td>175184.0</td>\n",
       "      <td>3130.0</td>\n",
       "      <td>19380.0</td>\n",
       "    </tr>\n",
       "    <tr>\n",
       "      <th>12</th>\n",
       "      <td>2015-02-01</td>\n",
       "      <td>551317</td>\n",
       "      <td>-1196.0</td>\n",
       "      <td>-25535.0</td>\n",
       "      <td>-222735.0</td>\n",
       "      <td>41900.0</td>\n",
       "      <td>-26241.0</td>\n",
       "      <td>-100472.0</td>\n",
       "      <td>-103414.0</td>\n",
       "      <td>82168.0</td>\n",
       "      <td>23965.0</td>\n",
       "      <td>93963.0</td>\n",
       "      <td>84613.0</td>\n",
       "      <td>175184.0</td>\n",
       "      <td>3130.0</td>\n",
       "    </tr>\n",
       "    <tr>\n",
       "      <th>13</th>\n",
       "      <td>2015-03-01</td>\n",
       "      <td>730951</td>\n",
       "      <td>179634.0</td>\n",
       "      <td>-1196.0</td>\n",
       "      <td>-25535.0</td>\n",
       "      <td>-222735.0</td>\n",
       "      <td>41900.0</td>\n",
       "      <td>-26241.0</td>\n",
       "      <td>-100472.0</td>\n",
       "      <td>-103414.0</td>\n",
       "      <td>82168.0</td>\n",
       "      <td>23965.0</td>\n",
       "      <td>93963.0</td>\n",
       "      <td>84613.0</td>\n",
       "      <td>175184.0</td>\n",
       "    </tr>\n",
       "    <tr>\n",
       "      <th>14</th>\n",
       "      <td>2015-04-01</td>\n",
       "      <td>824467</td>\n",
       "      <td>93516.0</td>\n",
       "      <td>179634.0</td>\n",
       "      <td>-1196.0</td>\n",
       "      <td>-25535.0</td>\n",
       "      <td>-222735.0</td>\n",
       "      <td>41900.0</td>\n",
       "      <td>-26241.0</td>\n",
       "      <td>-100472.0</td>\n",
       "      <td>-103414.0</td>\n",
       "      <td>82168.0</td>\n",
       "      <td>23965.0</td>\n",
       "      <td>93963.0</td>\n",
       "      <td>84613.0</td>\n",
       "    </tr>\n",
       "    <tr>\n",
       "      <th>15</th>\n",
       "      <td>2015-05-01</td>\n",
       "      <td>926902</td>\n",
       "      <td>102435.0</td>\n",
       "      <td>93516.0</td>\n",
       "      <td>179634.0</td>\n",
       "      <td>-1196.0</td>\n",
       "      <td>-25535.0</td>\n",
       "      <td>-222735.0</td>\n",
       "      <td>41900.0</td>\n",
       "      <td>-26241.0</td>\n",
       "      <td>-100472.0</td>\n",
       "      <td>-103414.0</td>\n",
       "      <td>82168.0</td>\n",
       "      <td>23965.0</td>\n",
       "      <td>93963.0</td>\n",
       "    </tr>\n",
       "    <tr>\n",
       "      <th>16</th>\n",
       "      <td>2015-06-01</td>\n",
       "      <td>937184</td>\n",
       "      <td>10282.0</td>\n",
       "      <td>102435.0</td>\n",
       "      <td>93516.0</td>\n",
       "      <td>179634.0</td>\n",
       "      <td>-1196.0</td>\n",
       "      <td>-25535.0</td>\n",
       "      <td>-222735.0</td>\n",
       "      <td>41900.0</td>\n",
       "      <td>-26241.0</td>\n",
       "      <td>-100472.0</td>\n",
       "      <td>-103414.0</td>\n",
       "      <td>82168.0</td>\n",
       "      <td>23965.0</td>\n",
       "    </tr>\n",
       "    <tr>\n",
       "      <th>17</th>\n",
       "      <td>2015-07-01</td>\n",
       "      <td>1037350</td>\n",
       "      <td>100166.0</td>\n",
       "      <td>10282.0</td>\n",
       "      <td>102435.0</td>\n",
       "      <td>93516.0</td>\n",
       "      <td>179634.0</td>\n",
       "      <td>-1196.0</td>\n",
       "      <td>-25535.0</td>\n",
       "      <td>-222735.0</td>\n",
       "      <td>41900.0</td>\n",
       "      <td>-26241.0</td>\n",
       "      <td>-100472.0</td>\n",
       "      <td>-103414.0</td>\n",
       "      <td>82168.0</td>\n",
       "    </tr>\n",
       "    <tr>\n",
       "      <th>18</th>\n",
       "      <td>2015-08-01</td>\n",
       "      <td>920401</td>\n",
       "      <td>-116949.0</td>\n",
       "      <td>100166.0</td>\n",
       "      <td>10282.0</td>\n",
       "      <td>102435.0</td>\n",
       "      <td>93516.0</td>\n",
       "      <td>179634.0</td>\n",
       "      <td>-1196.0</td>\n",
       "      <td>-25535.0</td>\n",
       "      <td>-222735.0</td>\n",
       "      <td>41900.0</td>\n",
       "      <td>-26241.0</td>\n",
       "      <td>-100472.0</td>\n",
       "      <td>-103414.0</td>\n",
       "    </tr>\n",
       "    <tr>\n",
       "      <th>19</th>\n",
       "      <td>2015-09-01</td>\n",
       "      <td>823332</td>\n",
       "      <td>-97069.0</td>\n",
       "      <td>-116949.0</td>\n",
       "      <td>100166.0</td>\n",
       "      <td>10282.0</td>\n",
       "      <td>102435.0</td>\n",
       "      <td>93516.0</td>\n",
       "      <td>179634.0</td>\n",
       "      <td>-1196.0</td>\n",
       "      <td>-25535.0</td>\n",
       "      <td>-222735.0</td>\n",
       "      <td>41900.0</td>\n",
       "      <td>-26241.0</td>\n",
       "      <td>-100472.0</td>\n",
       "    </tr>\n",
       "    <tr>\n",
       "      <th>20</th>\n",
       "      <td>2015-10-01</td>\n",
       "      <td>797253</td>\n",
       "      <td>-26079.0</td>\n",
       "      <td>-97069.0</td>\n",
       "      <td>-116949.0</td>\n",
       "      <td>100166.0</td>\n",
       "      <td>10282.0</td>\n",
       "      <td>102435.0</td>\n",
       "      <td>93516.0</td>\n",
       "      <td>179634.0</td>\n",
       "      <td>-1196.0</td>\n",
       "      <td>-25535.0</td>\n",
       "      <td>-222735.0</td>\n",
       "      <td>41900.0</td>\n",
       "      <td>-26241.0</td>\n",
       "    </tr>\n",
       "    <tr>\n",
       "      <th>21</th>\n",
       "      <td>2015-11-01</td>\n",
       "      <td>827645</td>\n",
       "      <td>30392.0</td>\n",
       "      <td>-26079.0</td>\n",
       "      <td>-97069.0</td>\n",
       "      <td>-116949.0</td>\n",
       "      <td>100166.0</td>\n",
       "      <td>10282.0</td>\n",
       "      <td>102435.0</td>\n",
       "      <td>93516.0</td>\n",
       "      <td>179634.0</td>\n",
       "      <td>-1196.0</td>\n",
       "      <td>-25535.0</td>\n",
       "      <td>-222735.0</td>\n",
       "      <td>41900.0</td>\n",
       "    </tr>\n",
       "    <tr>\n",
       "      <th>22</th>\n",
       "      <td>2015-12-01</td>\n",
       "      <td>607572</td>\n",
       "      <td>-220073.0</td>\n",
       "      <td>30392.0</td>\n",
       "      <td>-26079.0</td>\n",
       "      <td>-97069.0</td>\n",
       "      <td>-116949.0</td>\n",
       "      <td>100166.0</td>\n",
       "      <td>10282.0</td>\n",
       "      <td>102435.0</td>\n",
       "      <td>93516.0</td>\n",
       "      <td>179634.0</td>\n",
       "      <td>-1196.0</td>\n",
       "      <td>-25535.0</td>\n",
       "      <td>-222735.0</td>\n",
       "    </tr>\n",
       "    <tr>\n",
       "      <th>23</th>\n",
       "      <td>2016-01-01</td>\n",
       "      <td>602439</td>\n",
       "      <td>-5133.0</td>\n",
       "      <td>-220073.0</td>\n",
       "      <td>30392.0</td>\n",
       "      <td>-26079.0</td>\n",
       "      <td>-97069.0</td>\n",
       "      <td>-116949.0</td>\n",
       "      <td>100166.0</td>\n",
       "      <td>10282.0</td>\n",
       "      <td>102435.0</td>\n",
       "      <td>93516.0</td>\n",
       "      <td>179634.0</td>\n",
       "      <td>-1196.0</td>\n",
       "      <td>-25535.0</td>\n",
       "    </tr>\n",
       "    <tr>\n",
       "      <th>24</th>\n",
       "      <td>2016-02-01</td>\n",
       "      <td>614957</td>\n",
       "      <td>12518.0</td>\n",
       "      <td>-5133.0</td>\n",
       "      <td>-220073.0</td>\n",
       "      <td>30392.0</td>\n",
       "      <td>-26079.0</td>\n",
       "      <td>-97069.0</td>\n",
       "      <td>-116949.0</td>\n",
       "      <td>100166.0</td>\n",
       "      <td>10282.0</td>\n",
       "      <td>102435.0</td>\n",
       "      <td>93516.0</td>\n",
       "      <td>179634.0</td>\n",
       "      <td>-1196.0</td>\n",
       "    </tr>\n",
       "    <tr>\n",
       "      <th>25</th>\n",
       "      <td>2016-03-01</td>\n",
       "      <td>790881</td>\n",
       "      <td>175924.0</td>\n",
       "      <td>12518.0</td>\n",
       "      <td>-5133.0</td>\n",
       "      <td>-220073.0</td>\n",
       "      <td>30392.0</td>\n",
       "      <td>-26079.0</td>\n",
       "      <td>-97069.0</td>\n",
       "      <td>-116949.0</td>\n",
       "      <td>100166.0</td>\n",
       "      <td>10282.0</td>\n",
       "      <td>102435.0</td>\n",
       "      <td>93516.0</td>\n",
       "      <td>179634.0</td>\n",
       "    </tr>\n",
       "    <tr>\n",
       "      <th>26</th>\n",
       "      <td>2016-04-01</td>\n",
       "      <td>901950</td>\n",
       "      <td>111069.0</td>\n",
       "      <td>175924.0</td>\n",
       "      <td>12518.0</td>\n",
       "      <td>-5133.0</td>\n",
       "      <td>-220073.0</td>\n",
       "      <td>30392.0</td>\n",
       "      <td>-26079.0</td>\n",
       "      <td>-97069.0</td>\n",
       "      <td>-116949.0</td>\n",
       "      <td>100166.0</td>\n",
       "      <td>10282.0</td>\n",
       "      <td>102435.0</td>\n",
       "      <td>93516.0</td>\n",
       "    </tr>\n",
       "    <tr>\n",
       "      <th>27</th>\n",
       "      <td>2016-05-01</td>\n",
       "      <td>988730</td>\n",
       "      <td>86780.0</td>\n",
       "      <td>111069.0</td>\n",
       "      <td>175924.0</td>\n",
       "      <td>12518.0</td>\n",
       "      <td>-5133.0</td>\n",
       "      <td>-220073.0</td>\n",
       "      <td>30392.0</td>\n",
       "      <td>-26079.0</td>\n",
       "      <td>-97069.0</td>\n",
       "      <td>-116949.0</td>\n",
       "      <td>100166.0</td>\n",
       "      <td>10282.0</td>\n",
       "      <td>102435.0</td>\n",
       "    </tr>\n",
       "    <tr>\n",
       "      <th>28</th>\n",
       "      <td>2016-06-01</td>\n",
       "      <td>1022664</td>\n",
       "      <td>33934.0</td>\n",
       "      <td>86780.0</td>\n",
       "      <td>111069.0</td>\n",
       "      <td>175924.0</td>\n",
       "      <td>12518.0</td>\n",
       "      <td>-5133.0</td>\n",
       "      <td>-220073.0</td>\n",
       "      <td>30392.0</td>\n",
       "      <td>-26079.0</td>\n",
       "      <td>-97069.0</td>\n",
       "      <td>-116949.0</td>\n",
       "      <td>100166.0</td>\n",
       "      <td>10282.0</td>\n",
       "    </tr>\n",
       "    <tr>\n",
       "      <th>29</th>\n",
       "      <td>2016-07-01</td>\n",
       "      <td>1138718</td>\n",
       "      <td>116054.0</td>\n",
       "      <td>33934.0</td>\n",
       "      <td>86780.0</td>\n",
       "      <td>111069.0</td>\n",
       "      <td>175924.0</td>\n",
       "      <td>12518.0</td>\n",
       "      <td>-5133.0</td>\n",
       "      <td>-220073.0</td>\n",
       "      <td>30392.0</td>\n",
       "      <td>-26079.0</td>\n",
       "      <td>-97069.0</td>\n",
       "      <td>-116949.0</td>\n",
       "      <td>100166.0</td>\n",
       "    </tr>\n",
       "    <tr>\n",
       "      <th>30</th>\n",
       "      <td>2016-08-01</td>\n",
       "      <td>981494</td>\n",
       "      <td>-157224.0</td>\n",
       "      <td>116054.0</td>\n",
       "      <td>33934.0</td>\n",
       "      <td>86780.0</td>\n",
       "      <td>111069.0</td>\n",
       "      <td>175924.0</td>\n",
       "      <td>12518.0</td>\n",
       "      <td>-5133.0</td>\n",
       "      <td>-220073.0</td>\n",
       "      <td>30392.0</td>\n",
       "      <td>-26079.0</td>\n",
       "      <td>-97069.0</td>\n",
       "      <td>-116949.0</td>\n",
       "    </tr>\n",
       "    <tr>\n",
       "      <th>31</th>\n",
       "      <td>2016-09-01</td>\n",
       "      <td>896831</td>\n",
       "      <td>-84663.0</td>\n",
       "      <td>-157224.0</td>\n",
       "      <td>116054.0</td>\n",
       "      <td>33934.0</td>\n",
       "      <td>86780.0</td>\n",
       "      <td>111069.0</td>\n",
       "      <td>175924.0</td>\n",
       "      <td>12518.0</td>\n",
       "      <td>-5133.0</td>\n",
       "      <td>-220073.0</td>\n",
       "      <td>30392.0</td>\n",
       "      <td>-26079.0</td>\n",
       "      <td>-97069.0</td>\n",
       "    </tr>\n",
       "    <tr>\n",
       "      <th>32</th>\n",
       "      <td>2016-10-01</td>\n",
       "      <td>863637</td>\n",
       "      <td>-33194.0</td>\n",
       "      <td>-84663.0</td>\n",
       "      <td>-157224.0</td>\n",
       "      <td>116054.0</td>\n",
       "      <td>33934.0</td>\n",
       "      <td>86780.0</td>\n",
       "      <td>111069.0</td>\n",
       "      <td>175924.0</td>\n",
       "      <td>12518.0</td>\n",
       "      <td>-5133.0</td>\n",
       "      <td>-220073.0</td>\n",
       "      <td>30392.0</td>\n",
       "      <td>-26079.0</td>\n",
       "    </tr>\n",
       "    <tr>\n",
       "      <th>33</th>\n",
       "      <td>2016-11-01</td>\n",
       "      <td>891448</td>\n",
       "      <td>27811.0</td>\n",
       "      <td>-33194.0</td>\n",
       "      <td>-84663.0</td>\n",
       "      <td>-157224.0</td>\n",
       "      <td>116054.0</td>\n",
       "      <td>33934.0</td>\n",
       "      <td>86780.0</td>\n",
       "      <td>111069.0</td>\n",
       "      <td>175924.0</td>\n",
       "      <td>12518.0</td>\n",
       "      <td>-5133.0</td>\n",
       "      <td>-220073.0</td>\n",
       "      <td>30392.0</td>\n",
       "    </tr>\n",
       "    <tr>\n",
       "      <th>34</th>\n",
       "      <td>2016-12-01</td>\n",
       "      <td>663411</td>\n",
       "      <td>-228037.0</td>\n",
       "      <td>27811.0</td>\n",
       "      <td>-33194.0</td>\n",
       "      <td>-84663.0</td>\n",
       "      <td>-157224.0</td>\n",
       "      <td>116054.0</td>\n",
       "      <td>33934.0</td>\n",
       "      <td>86780.0</td>\n",
       "      <td>111069.0</td>\n",
       "      <td>175924.0</td>\n",
       "      <td>12518.0</td>\n",
       "      <td>-5133.0</td>\n",
       "      <td>-220073.0</td>\n",
       "    </tr>\n",
       "    <tr>\n",
       "      <th>35</th>\n",
       "      <td>2017-01-01</td>\n",
       "      <td>617306</td>\n",
       "      <td>-46105.0</td>\n",
       "      <td>-228037.0</td>\n",
       "      <td>27811.0</td>\n",
       "      <td>-33194.0</td>\n",
       "      <td>-84663.0</td>\n",
       "      <td>-157224.0</td>\n",
       "      <td>116054.0</td>\n",
       "      <td>33934.0</td>\n",
       "      <td>86780.0</td>\n",
       "      <td>111069.0</td>\n",
       "      <td>175924.0</td>\n",
       "      <td>12518.0</td>\n",
       "      <td>-5133.0</td>\n",
       "    </tr>\n",
       "    <tr>\n",
       "      <th>36</th>\n",
       "      <td>2017-02-01</td>\n",
       "      <td>621369</td>\n",
       "      <td>4063.0</td>\n",
       "      <td>-46105.0</td>\n",
       "      <td>-228037.0</td>\n",
       "      <td>27811.0</td>\n",
       "      <td>-33194.0</td>\n",
       "      <td>-84663.0</td>\n",
       "      <td>-157224.0</td>\n",
       "      <td>116054.0</td>\n",
       "      <td>33934.0</td>\n",
       "      <td>86780.0</td>\n",
       "      <td>111069.0</td>\n",
       "      <td>175924.0</td>\n",
       "      <td>12518.0</td>\n",
       "    </tr>\n",
       "    <tr>\n",
       "      <th>37</th>\n",
       "      <td>2017-03-01</td>\n",
       "      <td>822667</td>\n",
       "      <td>201298.0</td>\n",
       "      <td>4063.0</td>\n",
       "      <td>-46105.0</td>\n",
       "      <td>-228037.0</td>\n",
       "      <td>27811.0</td>\n",
       "      <td>-33194.0</td>\n",
       "      <td>-84663.0</td>\n",
       "      <td>-157224.0</td>\n",
       "      <td>116054.0</td>\n",
       "      <td>33934.0</td>\n",
       "      <td>86780.0</td>\n",
       "      <td>111069.0</td>\n",
       "      <td>175924.0</td>\n",
       "    </tr>\n",
       "    <tr>\n",
       "      <th>38</th>\n",
       "      <td>2017-04-01</td>\n",
       "      <td>938862</td>\n",
       "      <td>116195.0</td>\n",
       "      <td>201298.0</td>\n",
       "      <td>4063.0</td>\n",
       "      <td>-46105.0</td>\n",
       "      <td>-228037.0</td>\n",
       "      <td>27811.0</td>\n",
       "      <td>-33194.0</td>\n",
       "      <td>-84663.0</td>\n",
       "      <td>-157224.0</td>\n",
       "      <td>116054.0</td>\n",
       "      <td>33934.0</td>\n",
       "      <td>86780.0</td>\n",
       "      <td>111069.0</td>\n",
       "    </tr>\n",
       "    <tr>\n",
       "      <th>39</th>\n",
       "      <td>2017-05-01</td>\n",
       "      <td>1020686</td>\n",
       "      <td>81824.0</td>\n",
       "      <td>116195.0</td>\n",
       "      <td>201298.0</td>\n",
       "      <td>4063.0</td>\n",
       "      <td>-46105.0</td>\n",
       "      <td>-228037.0</td>\n",
       "      <td>27811.0</td>\n",
       "      <td>-33194.0</td>\n",
       "      <td>-84663.0</td>\n",
       "      <td>-157224.0</td>\n",
       "      <td>116054.0</td>\n",
       "      <td>33934.0</td>\n",
       "      <td>86780.0</td>\n",
       "    </tr>\n",
       "    <tr>\n",
       "      <th>40</th>\n",
       "      <td>2017-06-01</td>\n",
       "      <td>1064624</td>\n",
       "      <td>43938.0</td>\n",
       "      <td>81824.0</td>\n",
       "      <td>116195.0</td>\n",
       "      <td>201298.0</td>\n",
       "      <td>4063.0</td>\n",
       "      <td>-46105.0</td>\n",
       "      <td>-228037.0</td>\n",
       "      <td>27811.0</td>\n",
       "      <td>-33194.0</td>\n",
       "      <td>-84663.0</td>\n",
       "      <td>-157224.0</td>\n",
       "      <td>116054.0</td>\n",
       "      <td>33934.0</td>\n",
       "    </tr>\n",
       "    <tr>\n",
       "      <th>41</th>\n",
       "      <td>2017-07-01</td>\n",
       "      <td>1171393</td>\n",
       "      <td>106769.0</td>\n",
       "      <td>43938.0</td>\n",
       "      <td>81824.0</td>\n",
       "      <td>116195.0</td>\n",
       "      <td>201298.0</td>\n",
       "      <td>4063.0</td>\n",
       "      <td>-46105.0</td>\n",
       "      <td>-228037.0</td>\n",
       "      <td>27811.0</td>\n",
       "      <td>-33194.0</td>\n",
       "      <td>-84663.0</td>\n",
       "      <td>-157224.0</td>\n",
       "      <td>116054.0</td>\n",
       "    </tr>\n",
       "    <tr>\n",
       "      <th>42</th>\n",
       "      <td>2017-08-01</td>\n",
       "      <td>1026403</td>\n",
       "      <td>-144990.0</td>\n",
       "      <td>106769.0</td>\n",
       "      <td>43938.0</td>\n",
       "      <td>81824.0</td>\n",
       "      <td>116195.0</td>\n",
       "      <td>201298.0</td>\n",
       "      <td>4063.0</td>\n",
       "      <td>-46105.0</td>\n",
       "      <td>-228037.0</td>\n",
       "      <td>27811.0</td>\n",
       "      <td>-33194.0</td>\n",
       "      <td>-84663.0</td>\n",
       "      <td>-157224.0</td>\n",
       "    </tr>\n",
       "    <tr>\n",
       "      <th>43</th>\n",
       "      <td>2017-09-01</td>\n",
       "      <td>935263</td>\n",
       "      <td>-91140.0</td>\n",
       "      <td>-144990.0</td>\n",
       "      <td>106769.0</td>\n",
       "      <td>43938.0</td>\n",
       "      <td>81824.0</td>\n",
       "      <td>116195.0</td>\n",
       "      <td>201298.0</td>\n",
       "      <td>4063.0</td>\n",
       "      <td>-46105.0</td>\n",
       "      <td>-228037.0</td>\n",
       "      <td>27811.0</td>\n",
       "      <td>-33194.0</td>\n",
       "      <td>-84663.0</td>\n",
       "    </tr>\n",
       "    <tr>\n",
       "      <th>44</th>\n",
       "      <td>2017-10-01</td>\n",
       "      <td>891160</td>\n",
       "      <td>-44103.0</td>\n",
       "      <td>-91140.0</td>\n",
       "      <td>-144990.0</td>\n",
       "      <td>106769.0</td>\n",
       "      <td>43938.0</td>\n",
       "      <td>81824.0</td>\n",
       "      <td>116195.0</td>\n",
       "      <td>201298.0</td>\n",
       "      <td>4063.0</td>\n",
       "      <td>-46105.0</td>\n",
       "      <td>-228037.0</td>\n",
       "      <td>27811.0</td>\n",
       "      <td>-33194.0</td>\n",
       "    </tr>\n",
       "    <tr>\n",
       "      <th>45</th>\n",
       "      <td>2017-11-01</td>\n",
       "      <td>928837</td>\n",
       "      <td>37677.0</td>\n",
       "      <td>-44103.0</td>\n",
       "      <td>-91140.0</td>\n",
       "      <td>-144990.0</td>\n",
       "      <td>106769.0</td>\n",
       "      <td>43938.0</td>\n",
       "      <td>81824.0</td>\n",
       "      <td>116195.0</td>\n",
       "      <td>201298.0</td>\n",
       "      <td>4063.0</td>\n",
       "      <td>-46105.0</td>\n",
       "      <td>-228037.0</td>\n",
       "      <td>27811.0</td>\n",
       "    </tr>\n",
       "    <tr>\n",
       "      <th>46</th>\n",
       "      <td>2017-12-01</td>\n",
       "      <td>695170</td>\n",
       "      <td>-233667.0</td>\n",
       "      <td>37677.0</td>\n",
       "      <td>-44103.0</td>\n",
       "      <td>-91140.0</td>\n",
       "      <td>-144990.0</td>\n",
       "      <td>106769.0</td>\n",
       "      <td>43938.0</td>\n",
       "      <td>81824.0</td>\n",
       "      <td>116195.0</td>\n",
       "      <td>201298.0</td>\n",
       "      <td>4063.0</td>\n",
       "      <td>-46105.0</td>\n",
       "      <td>-228037.0</td>\n",
       "    </tr>\n",
       "  </tbody>\n",
       "</table>\n",
       "</div>"
      ],
      "text/plain": [
       "         date    sales  sales_diff     lag_1     lag_2     lag_3     lag_4  \\\n",
       "0  2014-02-01   529117      3130.0   19380.0 -186036.0   36056.0  -33320.0   \n",
       "1  2014-03-01   704301    175184.0    3130.0   19380.0 -186036.0   36056.0   \n",
       "2  2014-04-01   788914     84613.0  175184.0    3130.0   19380.0 -186036.0   \n",
       "3  2014-05-01   882877     93963.0   84613.0  175184.0    3130.0   19380.0   \n",
       "4  2014-06-01   906842     23965.0   93963.0   84613.0  175184.0    3130.0   \n",
       "5  2014-07-01   989010     82168.0   23965.0   93963.0   84613.0  175184.0   \n",
       "6  2014-08-01   885596   -103414.0   82168.0   23965.0   93963.0   84613.0   \n",
       "7  2014-09-01   785124   -100472.0 -103414.0   82168.0   23965.0   93963.0   \n",
       "8  2014-10-01   758883    -26241.0 -100472.0 -103414.0   82168.0   23965.0   \n",
       "9  2014-11-01   800783     41900.0  -26241.0 -100472.0 -103414.0   82168.0   \n",
       "10 2014-12-01   578048   -222735.0   41900.0  -26241.0 -100472.0 -103414.0   \n",
       "11 2015-01-01   552513    -25535.0 -222735.0   41900.0  -26241.0 -100472.0   \n",
       "12 2015-02-01   551317     -1196.0  -25535.0 -222735.0   41900.0  -26241.0   \n",
       "13 2015-03-01   730951    179634.0   -1196.0  -25535.0 -222735.0   41900.0   \n",
       "14 2015-04-01   824467     93516.0  179634.0   -1196.0  -25535.0 -222735.0   \n",
       "15 2015-05-01   926902    102435.0   93516.0  179634.0   -1196.0  -25535.0   \n",
       "16 2015-06-01   937184     10282.0  102435.0   93516.0  179634.0   -1196.0   \n",
       "17 2015-07-01  1037350    100166.0   10282.0  102435.0   93516.0  179634.0   \n",
       "18 2015-08-01   920401   -116949.0  100166.0   10282.0  102435.0   93516.0   \n",
       "19 2015-09-01   823332    -97069.0 -116949.0  100166.0   10282.0  102435.0   \n",
       "20 2015-10-01   797253    -26079.0  -97069.0 -116949.0  100166.0   10282.0   \n",
       "21 2015-11-01   827645     30392.0  -26079.0  -97069.0 -116949.0  100166.0   \n",
       "22 2015-12-01   607572   -220073.0   30392.0  -26079.0  -97069.0 -116949.0   \n",
       "23 2016-01-01   602439     -5133.0 -220073.0   30392.0  -26079.0  -97069.0   \n",
       "24 2016-02-01   614957     12518.0   -5133.0 -220073.0   30392.0  -26079.0   \n",
       "25 2016-03-01   790881    175924.0   12518.0   -5133.0 -220073.0   30392.0   \n",
       "26 2016-04-01   901950    111069.0  175924.0   12518.0   -5133.0 -220073.0   \n",
       "27 2016-05-01   988730     86780.0  111069.0  175924.0   12518.0   -5133.0   \n",
       "28 2016-06-01  1022664     33934.0   86780.0  111069.0  175924.0   12518.0   \n",
       "29 2016-07-01  1138718    116054.0   33934.0   86780.0  111069.0  175924.0   \n",
       "30 2016-08-01   981494   -157224.0  116054.0   33934.0   86780.0  111069.0   \n",
       "31 2016-09-01   896831    -84663.0 -157224.0  116054.0   33934.0   86780.0   \n",
       "32 2016-10-01   863637    -33194.0  -84663.0 -157224.0  116054.0   33934.0   \n",
       "33 2016-11-01   891448     27811.0  -33194.0  -84663.0 -157224.0  116054.0   \n",
       "34 2016-12-01   663411   -228037.0   27811.0  -33194.0  -84663.0 -157224.0   \n",
       "35 2017-01-01   617306    -46105.0 -228037.0   27811.0  -33194.0  -84663.0   \n",
       "36 2017-02-01   621369      4063.0  -46105.0 -228037.0   27811.0  -33194.0   \n",
       "37 2017-03-01   822667    201298.0    4063.0  -46105.0 -228037.0   27811.0   \n",
       "38 2017-04-01   938862    116195.0  201298.0    4063.0  -46105.0 -228037.0   \n",
       "39 2017-05-01  1020686     81824.0  116195.0  201298.0    4063.0  -46105.0   \n",
       "40 2017-06-01  1064624     43938.0   81824.0  116195.0  201298.0    4063.0   \n",
       "41 2017-07-01  1171393    106769.0   43938.0   81824.0  116195.0  201298.0   \n",
       "42 2017-08-01  1026403   -144990.0  106769.0   43938.0   81824.0  116195.0   \n",
       "43 2017-09-01   935263    -91140.0 -144990.0  106769.0   43938.0   81824.0   \n",
       "44 2017-10-01   891160    -44103.0  -91140.0 -144990.0  106769.0   43938.0   \n",
       "45 2017-11-01   928837     37677.0  -44103.0  -91140.0 -144990.0  106769.0   \n",
       "46 2017-12-01   695170   -233667.0   37677.0  -44103.0  -91140.0 -144990.0   \n",
       "\n",
       "       lag_5     lag_6     lag_7     lag_8     lag_9    lag_10    lag_11  \\\n",
       "0   -76854.0  -89161.0   60325.0   32355.0   80968.0   64892.0  157965.0   \n",
       "1   -33320.0  -76854.0  -89161.0   60325.0   32355.0   80968.0   64892.0   \n",
       "2    36056.0  -33320.0  -76854.0  -89161.0   60325.0   32355.0   80968.0   \n",
       "3  -186036.0   36056.0  -33320.0  -76854.0  -89161.0   60325.0   32355.0   \n",
       "4    19380.0 -186036.0   36056.0  -33320.0  -76854.0  -89161.0   60325.0   \n",
       "5     3130.0   19380.0 -186036.0   36056.0  -33320.0  -76854.0  -89161.0   \n",
       "6   175184.0    3130.0   19380.0 -186036.0   36056.0  -33320.0  -76854.0   \n",
       "7    84613.0  175184.0    3130.0   19380.0 -186036.0   36056.0  -33320.0   \n",
       "8    93963.0   84613.0  175184.0    3130.0   19380.0 -186036.0   36056.0   \n",
       "9    23965.0   93963.0   84613.0  175184.0    3130.0   19380.0 -186036.0   \n",
       "10   82168.0   23965.0   93963.0   84613.0  175184.0    3130.0   19380.0   \n",
       "11 -103414.0   82168.0   23965.0   93963.0   84613.0  175184.0    3130.0   \n",
       "12 -100472.0 -103414.0   82168.0   23965.0   93963.0   84613.0  175184.0   \n",
       "13  -26241.0 -100472.0 -103414.0   82168.0   23965.0   93963.0   84613.0   \n",
       "14   41900.0  -26241.0 -100472.0 -103414.0   82168.0   23965.0   93963.0   \n",
       "15 -222735.0   41900.0  -26241.0 -100472.0 -103414.0   82168.0   23965.0   \n",
       "16  -25535.0 -222735.0   41900.0  -26241.0 -100472.0 -103414.0   82168.0   \n",
       "17   -1196.0  -25535.0 -222735.0   41900.0  -26241.0 -100472.0 -103414.0   \n",
       "18  179634.0   -1196.0  -25535.0 -222735.0   41900.0  -26241.0 -100472.0   \n",
       "19   93516.0  179634.0   -1196.0  -25535.0 -222735.0   41900.0  -26241.0   \n",
       "20  102435.0   93516.0  179634.0   -1196.0  -25535.0 -222735.0   41900.0   \n",
       "21   10282.0  102435.0   93516.0  179634.0   -1196.0  -25535.0 -222735.0   \n",
       "22  100166.0   10282.0  102435.0   93516.0  179634.0   -1196.0  -25535.0   \n",
       "23 -116949.0  100166.0   10282.0  102435.0   93516.0  179634.0   -1196.0   \n",
       "24  -97069.0 -116949.0  100166.0   10282.0  102435.0   93516.0  179634.0   \n",
       "25  -26079.0  -97069.0 -116949.0  100166.0   10282.0  102435.0   93516.0   \n",
       "26   30392.0  -26079.0  -97069.0 -116949.0  100166.0   10282.0  102435.0   \n",
       "27 -220073.0   30392.0  -26079.0  -97069.0 -116949.0  100166.0   10282.0   \n",
       "28   -5133.0 -220073.0   30392.0  -26079.0  -97069.0 -116949.0  100166.0   \n",
       "29   12518.0   -5133.0 -220073.0   30392.0  -26079.0  -97069.0 -116949.0   \n",
       "30  175924.0   12518.0   -5133.0 -220073.0   30392.0  -26079.0  -97069.0   \n",
       "31  111069.0  175924.0   12518.0   -5133.0 -220073.0   30392.0  -26079.0   \n",
       "32   86780.0  111069.0  175924.0   12518.0   -5133.0 -220073.0   30392.0   \n",
       "33   33934.0   86780.0  111069.0  175924.0   12518.0   -5133.0 -220073.0   \n",
       "34  116054.0   33934.0   86780.0  111069.0  175924.0   12518.0   -5133.0   \n",
       "35 -157224.0  116054.0   33934.0   86780.0  111069.0  175924.0   12518.0   \n",
       "36  -84663.0 -157224.0  116054.0   33934.0   86780.0  111069.0  175924.0   \n",
       "37  -33194.0  -84663.0 -157224.0  116054.0   33934.0   86780.0  111069.0   \n",
       "38   27811.0  -33194.0  -84663.0 -157224.0  116054.0   33934.0   86780.0   \n",
       "39 -228037.0   27811.0  -33194.0  -84663.0 -157224.0  116054.0   33934.0   \n",
       "40  -46105.0 -228037.0   27811.0  -33194.0  -84663.0 -157224.0  116054.0   \n",
       "41    4063.0  -46105.0 -228037.0   27811.0  -33194.0  -84663.0 -157224.0   \n",
       "42  201298.0    4063.0  -46105.0 -228037.0   27811.0  -33194.0  -84663.0   \n",
       "43  116195.0  201298.0    4063.0  -46105.0 -228037.0   27811.0  -33194.0   \n",
       "44   81824.0  116195.0  201298.0    4063.0  -46105.0 -228037.0   27811.0   \n",
       "45   43938.0   81824.0  116195.0  201298.0    4063.0  -46105.0 -228037.0   \n",
       "46  106769.0   43938.0   81824.0  116195.0  201298.0    4063.0  -46105.0   \n",
       "\n",
       "      lag_12  \n",
       "0     4513.0  \n",
       "1   157965.0  \n",
       "2    64892.0  \n",
       "3    80968.0  \n",
       "4    32355.0  \n",
       "5    60325.0  \n",
       "6   -89161.0  \n",
       "7   -76854.0  \n",
       "8   -33320.0  \n",
       "9    36056.0  \n",
       "10 -186036.0  \n",
       "11   19380.0  \n",
       "12    3130.0  \n",
       "13  175184.0  \n",
       "14   84613.0  \n",
       "15   93963.0  \n",
       "16   23965.0  \n",
       "17   82168.0  \n",
       "18 -103414.0  \n",
       "19 -100472.0  \n",
       "20  -26241.0  \n",
       "21   41900.0  \n",
       "22 -222735.0  \n",
       "23  -25535.0  \n",
       "24   -1196.0  \n",
       "25  179634.0  \n",
       "26   93516.0  \n",
       "27  102435.0  \n",
       "28   10282.0  \n",
       "29  100166.0  \n",
       "30 -116949.0  \n",
       "31  -97069.0  \n",
       "32  -26079.0  \n",
       "33   30392.0  \n",
       "34 -220073.0  \n",
       "35   -5133.0  \n",
       "36   12518.0  \n",
       "37  175924.0  \n",
       "38  111069.0  \n",
       "39   86780.0  \n",
       "40   33934.0  \n",
       "41  116054.0  \n",
       "42 -157224.0  \n",
       "43  -84663.0  \n",
       "44  -33194.0  \n",
       "45   27811.0  \n",
       "46 -228037.0  "
      ]
     },
     "execution_count": 27,
     "metadata": {},
     "output_type": "execute_result"
    }
   ],
   "source": [
    "model_df = built_supervised(stationary_df)\n",
    "model_df "
   ]
  },
  {
   "cell_type": "code",
   "execution_count": 28,
   "id": "5eda56b8",
   "metadata": {
    "execution": {
     "iopub.execute_input": "2023-05-15T01:28:25.694311Z",
     "iopub.status.busy": "2023-05-15T01:28:25.693869Z",
     "iopub.status.idle": "2023-05-15T01:28:25.709449Z",
     "shell.execute_reply": "2023-05-15T01:28:25.707895Z"
    },
    "papermill": {
     "duration": 0.054783,
     "end_time": "2023-05-15T01:28:25.712027",
     "exception": false,
     "start_time": "2023-05-15T01:28:25.657244",
     "status": "completed"
    },
    "tags": []
   },
   "outputs": [
    {
     "name": "stdout",
     "output_type": "stream",
     "text": [
      "<class 'pandas.core.frame.DataFrame'>\n",
      "RangeIndex: 47 entries, 0 to 46\n",
      "Data columns (total 15 columns):\n",
      " #   Column      Non-Null Count  Dtype         \n",
      "---  ------      --------------  -----         \n",
      " 0   date        47 non-null     datetime64[ns]\n",
      " 1   sales       47 non-null     int64         \n",
      " 2   sales_diff  47 non-null     float64       \n",
      " 3   lag_1       47 non-null     float64       \n",
      " 4   lag_2       47 non-null     float64       \n",
      " 5   lag_3       47 non-null     float64       \n",
      " 6   lag_4       47 non-null     float64       \n",
      " 7   lag_5       47 non-null     float64       \n",
      " 8   lag_6       47 non-null     float64       \n",
      " 9   lag_7       47 non-null     float64       \n",
      " 10  lag_8       47 non-null     float64       \n",
      " 11  lag_9       47 non-null     float64       \n",
      " 12  lag_10      47 non-null     float64       \n",
      " 13  lag_11      47 non-null     float64       \n",
      " 14  lag_12      47 non-null     float64       \n",
      "dtypes: datetime64[ns](1), float64(13), int64(1)\n",
      "memory usage: 5.6 KB\n"
     ]
    }
   ],
   "source": [
    "model_df.info() # Supervised Dataframe"
   ]
  },
  {
   "cell_type": "markdown",
   "id": "7b69de4b",
   "metadata": {
    "papermill": {
     "duration": 0.034133,
     "end_time": "2023-05-15T01:28:25.781247",
     "exception": false,
     "start_time": "2023-05-15T01:28:25.747114",
     "status": "completed"
    },
    "tags": []
   },
   "source": [
    "<div class=\"alert alert-block alert-danger\" style =\"background-color : #e6ebef;\">\n",
    "    <h5 style=\"padding: 15px;\n",
    "              color:black;\">📌 Now we have two separate data structures: <br> <br><br>\n",
    "              ✔ Our Arima structure which includes a DataTime index,\n",
    "        <br><br>\n",
    "             ✔ Our supervised structure which includes lags as features.\n",
    "    </h5>\n",
    "</div>\n"
   ]
  },
  {
   "cell_type": "markdown",
   "id": "cef3544a",
   "metadata": {
    "papermill": {
     "duration": 0.034357,
     "end_time": "2023-05-15T01:28:25.850244",
     "exception": false,
     "start_time": "2023-05-15T01:28:25.815887",
     "status": "completed"
    },
    "tags": []
   },
   "source": [
    "## **Functions For Modeling** "
   ]
  },
  {
   "cell_type": "markdown",
   "id": "eb066c4e",
   "metadata": {
    "papermill": {
     "duration": 0.034401,
     "end_time": "2023-05-15T01:28:25.919465",
     "exception": false,
     "start_time": "2023-05-15T01:28:25.885064",
     "status": "completed"
    },
    "tags": []
   },
   "source": [
    "To create and assess all of our models, we will use a series of helper functions that perform the following functions:\n",
    "* *Train test split*\n",
    "* *Scale the data*\n",
    "* *Reverse scaling*\n",
    "* *Create a predictions data frame*\n",
    "* *Score the models*\n"
   ]
  },
  {
   "cell_type": "markdown",
   "id": "a981c190",
   "metadata": {
    "papermill": {
     "duration": 0.034452,
     "end_time": "2023-05-15T01:28:25.988521",
     "exception": false,
     "start_time": "2023-05-15T01:28:25.954069",
     "status": "completed"
    },
    "tags": []
   },
   "source": [
    " # Train Test Split\n",
    "\n",
    ">       We detach our data so that the last 12 months are part of the test set and the rest of the data is used to train our model."
   ]
  },
  {
   "cell_type": "code",
   "execution_count": 29,
   "id": "4ff6ab21",
   "metadata": {
    "execution": {
     "iopub.execute_input": "2023-05-15T01:28:26.061109Z",
     "iopub.status.busy": "2023-05-15T01:28:26.059925Z",
     "iopub.status.idle": "2023-05-15T01:28:26.069967Z",
     "shell.execute_reply": "2023-05-15T01:28:26.068645Z"
    },
    "papermill": {
     "duration": 0.049289,
     "end_time": "2023-05-15T01:28:26.072618",
     "exception": false,
     "start_time": "2023-05-15T01:28:26.023329",
     "status": "completed"
    },
    "tags": []
   },
   "outputs": [
    {
     "name": "stdout",
     "output_type": "stream",
     "text": [
      "Shape of  Train: (35, 13)\n",
      "Shape of  Test: (12, 13)\n"
     ]
    }
   ],
   "source": [
    "def train_test_split(data):\n",
    "    data = data.drop(['sales','date'], axis=1)\n",
    "    train , test = data[:-12].values, data[-12:].values\n",
    "    \n",
    "    return train, test\n",
    "\n",
    "train, test = train_test_split(model_df)\n",
    "print(f\"Shape of  Train: {train.shape}\\nShape of  Test: {test.shape}\")"
   ]
  },
  {
   "cell_type": "markdown",
   "id": "5e56bb1a",
   "metadata": {
    "papermill": {
     "duration": 0.034602,
     "end_time": "2023-05-15T01:28:26.143451",
     "exception": false,
     "start_time": "2023-05-15T01:28:26.108849",
     "status": "completed"
    },
    "tags": []
   },
   "source": [
    " # Scale The Data\n",
    "\n",
    ">      Using a min-max scaler, we will scale the data so that all of our variables fall within the range of -1 to 1."
   ]
  },
  {
   "cell_type": "code",
   "execution_count": 30,
   "id": "0f76faf1",
   "metadata": {
    "execution": {
     "iopub.execute_input": "2023-05-15T01:28:26.215767Z",
     "iopub.status.busy": "2023-05-15T01:28:26.214432Z",
     "iopub.status.idle": "2023-05-15T01:28:26.227914Z",
     "shell.execute_reply": "2023-05-15T01:28:26.226923Z"
    },
    "papermill": {
     "duration": 0.052554,
     "end_time": "2023-05-15T01:28:26.230786",
     "exception": false,
     "start_time": "2023-05-15T01:28:26.178232",
     "status": "completed"
    },
    "tags": []
   },
   "outputs": [
    {
     "name": "stdout",
     "output_type": "stream",
     "text": [
      "Shape of X Train: (35, 12)\n",
      "Shape of y Train: (35,)\n",
      "Shape of X Test: (12, 12)\n",
      "Shape of y Test: (12,)\n"
     ]
    }
   ],
   "source": [
    "def scale_data(train_set,test_set):\n",
    "    \"\"\"Scales data using MinMaxScaler and separates data into X_train, y_train,\n",
    "    X_test, and y_test.\"\"\"\n",
    "    \n",
    "    # Apply Min Max Scaler:\n",
    "    scaler = MinMaxScaler(feature_range=(-1, 1))\n",
    "    scaler = scaler.fit(train_set)\n",
    "    \n",
    "    # Reshape training set:\n",
    "    train_set = train_set.reshape(train_set.shape[0],\n",
    "                                  train_set.shape[1])\n",
    "    train_set_scaled = scaler.transform(train_set)\n",
    "    \n",
    "    # Reshape test set:\n",
    "    test_set = test_set.reshape(test_set.shape[0], \n",
    "                                test_set.shape[1])\n",
    "    test_set_scaled = scaler.transform(test_set)\n",
    "    \n",
    "    X_train, y_train = train_set_scaled[:, 1:], train_set_scaled[:, 0:1].ravel() # returns the array, flattened!\n",
    "    X_test, y_test = test_set_scaled[:, 1:], test_set_scaled[:, 0:1].ravel()\n",
    "    \n",
    "    return X_train, y_train, X_test, y_test, scaler\n",
    "\n",
    "\n",
    "X_train, y_train, X_test, y_test, scaler_object = scale_data(train, test)\n",
    "print(f\"Shape of X Train: {X_train.shape}\\nShape of y Train: {y_train.shape}\\nShape of X Test: {X_test.shape}\\nShape of y Test: {y_test.shape}\")"
   ]
  },
  {
   "cell_type": "markdown",
   "id": "22bd4af7",
   "metadata": {
    "papermill": {
     "duration": 0.035145,
     "end_time": "2023-05-15T01:28:26.300659",
     "exception": false,
     "start_time": "2023-05-15T01:28:26.265514",
     "status": "completed"
    },
    "tags": []
   },
   "source": [
    " # Reverse Scaling\n",
    ">       After running our models, we will use this helper function to reverse the scaling of step 2."
   ]
  },
  {
   "cell_type": "code",
   "execution_count": 31,
   "id": "0b608cc4",
   "metadata": {
    "execution": {
     "iopub.execute_input": "2023-05-15T01:28:26.372184Z",
     "iopub.status.busy": "2023-05-15T01:28:26.371355Z",
     "iopub.status.idle": "2023-05-15T01:28:26.382017Z",
     "shell.execute_reply": "2023-05-15T01:28:26.380897Z"
    },
    "papermill": {
     "duration": 0.049356,
     "end_time": "2023-05-15T01:28:26.384914",
     "exception": false,
     "start_time": "2023-05-15T01:28:26.335558",
     "status": "completed"
    },
    "tags": []
   },
   "outputs": [],
   "source": [
    "def re_scaling(y_pred, x_test, scaler_obj, lstm=False):\n",
    "    \"\"\"For visualizing and comparing results, undoes the scaling effect on predictions.\"\"\"\n",
    "   # y_pred: model predictions\n",
    "   # x_test: features from the test set used for predictions\n",
    "   # scaler_obj: the scaler objects used for min-max scaling\n",
    "   # lstm: indicate if the model run is the lstm. If True, additional transformation occurs \n",
    "    \n",
    "    # Reshape y_pred:\n",
    "    y_pred = y_pred.reshape(y_pred.shape[0],\n",
    "                            1,\n",
    "                            1)\n",
    "\n",
    "    if not lstm:\n",
    "        x_test = x_test.reshape(x_test.shape[0],\n",
    "                                1, \n",
    "                                x_test.shape[1])\n",
    "\n",
    "    # Rebuild test set for inverse transform:\n",
    "    pred_test_set = []\n",
    "    for index in range(0, len(y_pred)):\n",
    "        pred_test_set.append(np.concatenate([y_pred[index], \n",
    "                                             x_test[index]],\n",
    "                                             axis=1) )\n",
    "\n",
    "    # Reshape pred_test_set:\n",
    "    pred_test_set = np.array(pred_test_set)\n",
    "    pred_test_set = pred_test_set.reshape(pred_test_set.shape[0],\n",
    "                                          pred_test_set.shape[2])\n",
    "\n",
    "    # Inverse transform:\n",
    "    pred_test_set_inverted = scaler_obj.inverse_transform(pred_test_set)\n",
    "\n",
    "    return pred_test_set_inverted\n",
    "    \n"
   ]
  },
  {
   "cell_type": "markdown",
   "id": "dc9a8a6e",
   "metadata": {
    "papermill": {
     "duration": 0.034419,
     "end_time": "2023-05-15T01:28:26.453842",
     "exception": false,
     "start_time": "2023-05-15T01:28:26.419423",
     "status": "completed"
    },
    "tags": []
   },
   "source": [
    " # Predictions Dataframe\n",
    ">     Generate a dataframe that includes the actual sales captured in our test set and the predicted results from our model so that we can quantify our success."
   ]
  },
  {
   "cell_type": "code",
   "execution_count": 32,
   "id": "b3775bf7",
   "metadata": {
    "execution": {
     "iopub.execute_input": "2023-05-15T01:28:26.526682Z",
     "iopub.status.busy": "2023-05-15T01:28:26.525347Z",
     "iopub.status.idle": "2023-05-15T01:28:26.534489Z",
     "shell.execute_reply": "2023-05-15T01:28:26.533573Z"
    },
    "papermill": {
     "duration": 0.048571,
     "end_time": "2023-05-15T01:28:26.537342",
     "exception": false,
     "start_time": "2023-05-15T01:28:26.488771",
     "status": "completed"
    },
    "tags": []
   },
   "outputs": [],
   "source": [
    "def prediction_df(unscale_predictions, origin_df):\n",
    "    \"\"\"Generates a dataframe that shows the predicted sales for each month\n",
    "    for plotting results.\"\"\"\n",
    "    \n",
    "    # unscale_predictions: the model predictions that do not have min-max or other scaling applied\n",
    "    # origin_df: the original monthly sales dataframe\n",
    "    \n",
    "    # Create dataframe that shows the predicted sales:\n",
    "    result_list = []\n",
    "    sales_dates = list(origin_df[-13:].date)\n",
    "    act_sales = list(origin_df[-13:].sales)\n",
    "\n",
    "    for index in range(0, len(unscale_predictions)):\n",
    "        result_dict = {}\n",
    "        result_dict['pred_value'] = int(unscale_predictions[index][0] + act_sales[index])\n",
    "        result_dict['date'] = sales_dates[index + 1]\n",
    "        result_list.append(result_dict)\n",
    "\n",
    "    df_result = pd.DataFrame(result_list)\n",
    "\n",
    "    return df_result"
   ]
  },
  {
   "cell_type": "markdown",
   "id": "197c627f",
   "metadata": {
    "papermill": {
     "duration": 0.034798,
     "end_time": "2023-05-15T01:28:26.606708",
     "exception": false,
     "start_time": "2023-05-15T01:28:26.571910",
     "status": "completed"
    },
    "tags": []
   },
   "source": [
    "# Score The Models\n",
    ">      This helper function will save the root mean squared error (RMSE) and mean absolute error (MAE) of our predictions to compare the performance of our models.\n",
    "[Regression Metrics](https://scikit-learn.org/0.24/modules/model_evaluation.html#regression-metrics)"
   ]
  },
  {
   "cell_type": "markdown",
   "id": "f392b2ff",
   "metadata": {
    "papermill": {
     "duration": 0.034519,
     "end_time": "2023-05-15T01:28:26.675702",
     "exception": false,
     "start_time": "2023-05-15T01:28:26.641183",
     "status": "completed"
    },
    "tags": []
   },
   "source": [
    "![](https://4.bp.blogspot.com/-wG7IbjTfE6k/XGUvqm7TCVI/AAAAAAAAAZU/vpH1kuKTIooKTcVlnm1EVRCXLVZM9cPNgCLcBGAs/s1600/formula-MAE-MSE-RMSE-RSquared.JPG)"
   ]
  },
  {
   "cell_type": "code",
   "execution_count": 33,
   "id": "278f6c44",
   "metadata": {
    "execution": {
     "iopub.execute_input": "2023-05-15T01:28:26.747593Z",
     "iopub.status.busy": "2023-05-15T01:28:26.746449Z",
     "iopub.status.idle": "2023-05-15T01:28:26.755467Z",
     "shell.execute_reply": "2023-05-15T01:28:26.754317Z"
    },
    "papermill": {
     "duration": 0.04762,
     "end_time": "2023-05-15T01:28:26.758083",
     "exception": false,
     "start_time": "2023-05-15T01:28:26.710463",
     "status": "completed"
    },
    "tags": []
   },
   "outputs": [],
   "source": [
    "model_scores = {}\n",
    "\n",
    "def get_scores(unscale_df, origin_df, model_name):\n",
    "    \"\"\"Prints the root mean squared error, mean absolute error, and r2 scores\n",
    "    for each model. Saves all results in a model_scores dictionary for\n",
    "    comparison.\"\"\"\n",
    "    \n",
    "    rmse = np.sqrt(mean_squared_error(origin_df.sales[-12:], \n",
    "                                      unscale_df.pred_value[-12:]))\n",
    "    \n",
    "    mae = mean_absolute_error(origin_df.sales[-12:], \n",
    "                              unscale_df.pred_value[-12:])\n",
    "    \n",
    "    r2 = r2_score(origin_df.sales[-12:], \n",
    "                  unscale_df.pred_value[-12:])\n",
    "    \n",
    "    model_scores[model_name] = [rmse, mae, r2]\n",
    "\n",
    "    print(f\"RMSE: {rmse}\\nMAE: {mae}\\nR2 Score: {r2}\")"
   ]
  },
  {
   "cell_type": "markdown",
   "id": "05f7fd47",
   "metadata": {
    "papermill": {
     "duration": 0.034403,
     "end_time": "2023-05-15T01:28:26.827515",
     "exception": false,
     "start_time": "2023-05-15T01:28:26.793112",
     "status": "completed"
    },
    "tags": []
   },
   "source": [
    "# Graph of Results"
   ]
  },
  {
   "cell_type": "code",
   "execution_count": 34,
   "id": "92c1a008",
   "metadata": {
    "execution": {
     "iopub.execute_input": "2023-05-15T01:28:26.898991Z",
     "iopub.status.busy": "2023-05-15T01:28:26.898571Z",
     "iopub.status.idle": "2023-05-15T01:28:26.908036Z",
     "shell.execute_reply": "2023-05-15T01:28:26.907135Z"
    },
    "papermill": {
     "duration": 0.048473,
     "end_time": "2023-05-15T01:28:26.910416",
     "exception": false,
     "start_time": "2023-05-15T01:28:26.861943",
     "status": "completed"
    },
    "tags": []
   },
   "outputs": [],
   "source": [
    "def plot_results(results, origin_df, model_name):\n",
    "# results: a dataframe with unscaled predictions\n",
    "\n",
    "    fig, ax = plt.subplots(figsize=(15,5))\n",
    "    sns.lineplot(origin_df.date, origin_df.sales, data=origin_df, ax=ax, \n",
    "                 label='Original', color='blue')\n",
    "    sns.lineplot(results.date, results.pred_value, data=results, ax=ax, \n",
    "                 label='Predicted', color='red')\n",
    "    \n",
    "    \n",
    "    ax.set(xlabel = \"Date\",\n",
    "           ylabel = \"Sales\",\n",
    "           title = f\"{model_name} Sales Forecasting Prediction\")\n",
    "    \n",
    "    ax.legend(loc='best')\n",
    "    \n",
    "    filepath = Path('./model_output/{model_name}_forecasting.svg')  \n",
    "    filepath.parent.mkdir(parents=True, exist_ok=True) \n",
    "    plt.savefig(f'./model_output/{model_name}_forecasting.svg')"
   ]
  },
  {
   "cell_type": "code",
   "execution_count": 35,
   "id": "8c134536",
   "metadata": {
    "execution": {
     "iopub.execute_input": "2023-05-15T01:28:26.981706Z",
     "iopub.status.busy": "2023-05-15T01:28:26.981185Z",
     "iopub.status.idle": "2023-05-15T01:28:26.990725Z",
     "shell.execute_reply": "2023-05-15T01:28:26.989443Z"
    },
    "papermill": {
     "duration": 0.048343,
     "end_time": "2023-05-15T01:28:26.993296",
     "exception": false,
     "start_time": "2023-05-15T01:28:26.944953",
     "status": "completed"
    },
    "tags": []
   },
   "outputs": [],
   "source": [
    "def regressive_model(train_data, test_data, model, model_name):\n",
    "    \"\"\"Runs regressive models in SKlearn framework. First calls scale_data\n",
    "    to split into X and y and scale the data. Then fits and predicts. Finally,\n",
    "    predictions are unscaled, scores are printed, and results are plotted and\n",
    "    saved.\"\"\"\n",
    "    \n",
    "    # Split into X & y and scale data:\n",
    "    X_train, y_train, X_test, y_test, scaler_object = scale_data(train_data,\n",
    "                                                                 test_data)\n",
    "\n",
    "    # Run sklearn models:\n",
    "    mod = model\n",
    "    mod.fit(X_train, y_train)\n",
    "    predictions = mod.predict(X_test) # y_pred=predictions\n",
    "\n",
    "    # Undo scaling to compare predictions against original data:\n",
    "    origin_df = m_df\n",
    "    unscaled = re_scaling(predictions, X_test, scaler_object) # unscaled_predictions\n",
    "    unscaled_df = prediction_df(unscaled, origin_df)\n",
    "\n",
    "    # Print scores and plot results:\n",
    "    get_scores(unscaled_df, origin_df, model_name)\n",
    "    plot_results(unscaled_df, origin_df, model_name)"
   ]
  },
  {
   "cell_type": "markdown",
   "id": "2b74743a",
   "metadata": {
    "papermill": {
     "duration": 0.034375,
     "end_time": "2023-05-15T01:28:27.064977",
     "exception": false,
     "start_time": "2023-05-15T01:28:27.030602",
     "status": "completed"
    },
    "tags": []
   },
   "source": [
    "# **Modeling**\n",
    "# Regressive Models\n",
    "* Linear Regression\n",
    "* Random Forest Regressor\n",
    "* XGBoost\n",
    "* LSTM"
   ]
  },
  {
   "cell_type": "markdown",
   "id": "ab625bcb",
   "metadata": {
    "papermill": {
     "duration": 0.035304,
     "end_time": "2023-05-15T01:28:27.134955",
     "exception": false,
     "start_time": "2023-05-15T01:28:27.099651",
     "status": "completed"
    },
    "tags": []
   },
   "source": [
    "# [Linear Regression](http://)"
   ]
  },
  {
   "cell_type": "code",
   "execution_count": 36,
   "id": "286b25d5",
   "metadata": {
    "execution": {
     "iopub.execute_input": "2023-05-15T01:28:27.206895Z",
     "iopub.status.busy": "2023-05-15T01:28:27.206055Z",
     "iopub.status.idle": "2023-05-15T01:28:27.696377Z",
     "shell.execute_reply": "2023-05-15T01:28:27.695445Z"
    },
    "papermill": {
     "duration": 0.529396,
     "end_time": "2023-05-15T01:28:27.698942",
     "exception": false,
     "start_time": "2023-05-15T01:28:27.169546",
     "status": "completed"
    },
    "tags": []
   },
   "outputs": [
    {
     "name": "stdout",
     "output_type": "stream",
     "text": [
      "RMSE: 16221.040790693221\n",
      "MAE: 12433.0\n",
      "R2 Score: 0.9907155879704752\n"
     ]
    },
    {
     "data": {
      "image/png": "[encoded data removed]",
      "text/plain": [
       "<Figure size 1080x360 with 1 Axes>"
      ]
     },
     "metadata": {
      "needs_background": "light"
     },
     "output_type": "display_data"
    }
   ],
   "source": [
    "regressive_model(train, test, LinearRegression(), 'LinearRegression')"
   ]
  },
  {
   "cell_type": "markdown",
   "id": "9ff62670",
   "metadata": {
    "papermill": {
     "duration": 0.035908,
     "end_time": "2023-05-15T01:28:27.770808",
     "exception": false,
     "start_time": "2023-05-15T01:28:27.734900",
     "status": "completed"
    },
    "tags": []
   },
   "source": [
    " # [ Random Forest Regressor ](https://scikit-learn.org/0.24/modules/generated/sklearn.ensemble.RandomForestRegressor.html?highlight=random%20forest%20reg#sklearn.ensemble.RandomForestRegressor)"
   ]
  },
  {
   "cell_type": "code",
   "execution_count": 37,
   "id": "d9d589dc",
   "metadata": {
    "execution": {
     "iopub.execute_input": "2023-05-15T01:28:27.844654Z",
     "iopub.status.busy": "2023-05-15T01:28:27.843871Z",
     "iopub.status.idle": "2023-05-15T01:28:28.453840Z",
     "shell.execute_reply": "2023-05-15T01:28:28.452729Z"
    },
    "papermill": {
     "duration": 0.649836,
     "end_time": "2023-05-15T01:28:28.456538",
     "exception": false,
     "start_time": "2023-05-15T01:28:27.806702",
     "status": "completed"
    },
    "tags": []
   },
   "outputs": [
    {
     "name": "stdout",
     "output_type": "stream",
     "text": [
      "RMSE: 18049.051865679816\n",
      "MAE: 15319.416666666666\n",
      "R2 Score: 0.9885050851468058\n"
     ]
    },
    {
     "data": {
      "image/png": "[encoded data removed]",
      "text/plain": [
       "<Figure size 1080x360 with 1 Axes>"
      ]
     },
     "metadata": {
      "needs_background": "light"
     },
     "output_type": "display_data"
    }
   ],
   "source": [
    "regressive_model(train, test, RandomForestRegressor(n_estimators=100, max_depth=20), \n",
    "          'RandomForest')"
   ]
  },
  {
   "cell_type": "markdown",
   "id": "1e667ee3",
   "metadata": {
    "papermill": {
     "duration": 0.036002,
     "end_time": "2023-05-15T01:28:28.530917",
     "exception": false,
     "start_time": "2023-05-15T01:28:28.494915",
     "status": "completed"
    },
    "tags": []
   },
   "source": [
    "# [  XGBoost](https://xgboost.readthedocs.io/en/stable/parameter.html)"
   ]
  },
  {
   "cell_type": "code",
   "execution_count": 38,
   "id": "f57164eb",
   "metadata": {
    "execution": {
     "iopub.execute_input": "2023-05-15T01:28:28.606194Z",
     "iopub.status.busy": "2023-05-15T01:28:28.605480Z",
     "iopub.status.idle": "2023-05-15T01:28:29.395270Z",
     "shell.execute_reply": "2023-05-15T01:28:29.393954Z"
    },
    "papermill": {
     "duration": 0.830542,
     "end_time": "2023-05-15T01:28:29.397922",
     "exception": false,
     "start_time": "2023-05-15T01:28:28.567380",
     "status": "completed"
    },
    "tags": []
   },
   "outputs": [
    {
     "name": "stdout",
     "output_type": "stream",
     "text": [
      "RMSE: 13574.854581787116\n",
      "MAE: 11649.75\n",
      "R2 Score: 0.993497694881536\n"
     ]
    },
    {
     "data": {
      "image/png": "[encoded data removed]",
      "text/plain": [
       "<Figure size 1080x360 with 1 Axes>"
      ]
     },
     "metadata": {
      "needs_background": "light"
     },
     "output_type": "display_data"
    }
   ],
   "source": [
    "regressive_model(train, test, XGBRegressor(n_estimators=100,max_depth=3, \n",
    "                                           learning_rate=0.2,objective='reg:squarederror'), 'XGBoost')"
   ]
  },
  {
   "cell_type": "markdown",
   "id": "2e2cc98c",
   "metadata": {
    "papermill": {
     "duration": 0.036931,
     "end_time": "2023-05-15T01:28:29.472975",
     "exception": false,
     "start_time": "2023-05-15T01:28:29.436044",
     "status": "completed"
    },
    "tags": []
   },
   "source": [
    "# [LSTM](https://keras.io/api/layers/recurrent_layers/lstm/)\n",
    "\n",
    "> LSTM is a type of recurring neural network that is especially useful for predicting sequential data. [Getting started with the Keras Sequential model](https://faroit.com/keras-docs/1.2.0/getting-started/sequential-model-guide/#sequence-classification-with-lstm)"
   ]
  },
  {
   "cell_type": "code",
   "execution_count": 39,
   "id": "76a7b604",
   "metadata": {
    "execution": {
     "iopub.execute_input": "2023-05-15T01:28:29.552655Z",
     "iopub.status.busy": "2023-05-15T01:28:29.551673Z",
     "iopub.status.idle": "2023-05-15T01:28:29.564172Z",
     "shell.execute_reply": "2023-05-15T01:28:29.563245Z"
    },
    "papermill": {
     "duration": 0.055216,
     "end_time": "2023-05-15T01:28:29.566789",
     "exception": false,
     "start_time": "2023-05-15T01:28:29.511573",
     "status": "completed"
    },
    "tags": []
   },
   "outputs": [],
   "source": [
    "def lstm_model(train_data, test_data):\n",
    "    \"\"\"Runs a long-short-term-memory neural net with 2 dense layers. \n",
    "    Generates predictions that are then unscaled. \n",
    "    Scores are printed and the results are plotted and saved.\"\"\"\n",
    "    # train_data: dataset used to train the model\n",
    "    # test_data: dataset used to test the model\n",
    "   \n",
    "    \n",
    "    # Split into X & y and scale data:\n",
    "    X_train, y_train, X_test, y_test, scaler_object = scale_data(train_data, test_data)\n",
    "    \n",
    "    X_train = X_train.reshape(X_train.shape[0], 1, X_train.shape[1])\n",
    "    X_test = X_test.reshape(X_test.shape[0], 1, X_test.shape[1])\n",
    "   \n",
    "    \n",
    "    # Build LSTM:\n",
    "    model = Sequential()\n",
    "    model.add(LSTM(4, batch_input_shape=(1, X_train.shape[1], X_train.shape[2]), \n",
    "                   stateful=True))\n",
    "    model.add(Dense(1))\n",
    "    model.add(Dense(1))\n",
    "    model.compile(loss='mse', optimizer='adam', metrics=['accuracy'])\n",
    "    model.fit(X_train, y_train, epochs=50, batch_size=1, verbose=1, \n",
    "              shuffle=False)\n",
    "    predictions = model.predict(X_test,batch_size=1)\n",
    "    \n",
    "    # Undo scaling to compare predictions against original data:\n",
    "    origin_df = m_df\n",
    "    unscaled = re_scaling(predictions, X_test, scaler_object, lstm=True)\n",
    "    unscaled_df = prediction_df(unscaled, origin_df)\n",
    "    \n",
    "    get_scores(unscaled_df, origin_df, 'LSTM')\n",
    "    plot_results(unscaled_df, origin_df, 'LSTM')\n",
    "    \n"
   ]
  },
  {
   "cell_type": "code",
   "execution_count": 40,
   "id": "42763cd1",
   "metadata": {
    "execution": {
     "iopub.execute_input": "2023-05-15T01:28:29.647664Z",
     "iopub.status.busy": "2023-05-15T01:28:29.646789Z",
     "iopub.status.idle": "2023-05-15T01:28:37.207220Z",
     "shell.execute_reply": "2023-05-15T01:28:37.205626Z"
    },
    "papermill": {
     "duration": 7.604739,
     "end_time": "2023-05-15T01:28:37.210986",
     "exception": false,
     "start_time": "2023-05-15T01:28:29.606247",
     "status": "completed"
    },
    "tags": []
   },
   "outputs": [
    {
     "name": "stdout",
     "output_type": "stream",
     "text": [
      "Epoch 1/50\n",
      "35/35 [==============================] - 2s 2ms/step - loss: 0.3590 - accuracy: 0.0000e+00\n",
      "Epoch 2/50\n",
      "35/35 [==============================] - 0s 2ms/step - loss: 0.3251 - accuracy: 0.0000e+00\n",
      "Epoch 3/50\n",
      "35/35 [==============================] - 0s 2ms/step - loss: 0.2960 - accuracy: 0.0000e+00\n",
      "Epoch 4/50\n",
      "35/35 [==============================] - 0s 2ms/step - loss: 0.2723 - accuracy: 0.0000e+00\n",
      "Epoch 5/50\n",
      "35/35 [==============================] - 0s 2ms/step - loss: 0.2521 - accuracy: 0.0000e+00\n",
      "Epoch 6/50\n",
      "35/35 [==============================] - 0s 2ms/step - loss: 0.2343 - accuracy: 0.0000e+00\n",
      "Epoch 7/50\n",
      "35/35 [==============================] - 0s 2ms/step - loss: 0.2185 - accuracy: 0.0000e+00\n",
      "Epoch 8/50\n",
      "35/35 [==============================] - 0s 2ms/step - loss: 0.2040 - accuracy: 0.0000e+00\n",
      "Epoch 9/50\n",
      "35/35 [==============================] - 0s 2ms/step - loss: 0.1905 - accuracy: 0.0000e+00\n",
      "Epoch 10/50\n",
      "35/35 [==============================] - 0s 2ms/step - loss: 0.1780 - accuracy: 0.0000e+00\n",
      "Epoch 11/50\n",
      "35/35 [==============================] - 0s 2ms/step - loss: 0.1661 - accuracy: 0.0000e+00\n",
      "Epoch 12/50\n",
      "35/35 [==============================] - 0s 2ms/step - loss: 0.1548 - accuracy: 0.0000e+00\n",
      "Epoch 13/50\n",
      "35/35 [==============================] - 0s 2ms/step - loss: 0.1440 - accuracy: 0.0000e+00\n",
      "Epoch 14/50\n",
      "35/35 [==============================] - 0s 2ms/step - loss: 0.1338 - accuracy: 0.0000e+00\n",
      "Epoch 15/50\n",
      "35/35 [==============================] - 0s 2ms/step - loss: 0.1242 - accuracy: 0.0000e+00\n",
      "Epoch 16/50\n",
      "35/35 [==============================] - 0s 2ms/step - loss: 0.1150 - accuracy: 0.0000e+00\n",
      "Epoch 17/50\n",
      "35/35 [==============================] - 0s 2ms/step - loss: 0.1063 - accuracy: 0.0286\n",
      "Epoch 18/50\n",
      "35/35 [==============================] - 0s 2ms/step - loss: 0.0980 - accuracy: 0.0286\n",
      "Epoch 19/50\n",
      "35/35 [==============================] - 0s 2ms/step - loss: 0.0901 - accuracy: 0.0286\n",
      "Epoch 20/50\n",
      "35/35 [==============================] - 0s 2ms/step - loss: 0.0826 - accuracy: 0.0286\n",
      "Epoch 21/50\n",
      "35/35 [==============================] - 0s 2ms/step - loss: 0.0754 - accuracy: 0.0286\n",
      "Epoch 22/50\n",
      "35/35 [==============================] - 0s 2ms/step - loss: 0.0686 - accuracy: 0.0286\n",
      "Epoch 23/50\n",
      "35/35 [==============================] - 0s 2ms/step - loss: 0.0621 - accuracy: 0.0286\n",
      "Epoch 24/50\n",
      "35/35 [==============================] - 0s 2ms/step - loss: 0.0560 - accuracy: 0.0286\n",
      "Epoch 25/50\n",
      "35/35 [==============================] - 0s 2ms/step - loss: 0.0503 - accuracy: 0.0286\n",
      "Epoch 26/50\n",
      "35/35 [==============================] - 0s 2ms/step - loss: 0.0450 - accuracy: 0.0286\n",
      "Epoch 27/50\n",
      "35/35 [==============================] - 0s 2ms/step - loss: 0.0401 - accuracy: 0.0286\n",
      "Epoch 28/50\n",
      "35/35 [==============================] - 0s 2ms/step - loss: 0.0356 - accuracy: 0.0286\n",
      "Epoch 29/50\n",
      "35/35 [==============================] - 0s 2ms/step - loss: 0.0316 - accuracy: 0.0286\n",
      "Epoch 30/50\n",
      "35/35 [==============================] - 0s 2ms/step - loss: 0.0281 - accuracy: 0.0286\n",
      "Epoch 31/50\n",
      "35/35 [==============================] - 0s 2ms/step - loss: 0.0250 - accuracy: 0.0286\n",
      "Epoch 32/50\n",
      "35/35 [==============================] - 0s 2ms/step - loss: 0.0224 - accuracy: 0.0286\n",
      "Epoch 33/50\n",
      "35/35 [==============================] - 0s 2ms/step - loss: 0.0201 - accuracy: 0.0286\n",
      "Epoch 34/50\n",
      "35/35 [==============================] - 0s 2ms/step - loss: 0.0182 - accuracy: 0.0286\n",
      "Epoch 35/50\n",
      "35/35 [==============================] - 0s 2ms/step - loss: 0.0166 - accuracy: 0.0286\n",
      "Epoch 36/50\n",
      "35/35 [==============================] - 0s 2ms/step - loss: 0.0152 - accuracy: 0.0286\n",
      "Epoch 37/50\n",
      "35/35 [==============================] - 0s 2ms/step - loss: 0.0141 - accuracy: 0.0286\n",
      "Epoch 38/50\n",
      "35/35 [==============================] - 0s 2ms/step - loss: 0.0131 - accuracy: 0.0286\n",
      "Epoch 39/50\n",
      "35/35 [==============================] - 0s 2ms/step - loss: 0.0123 - accuracy: 0.0286\n",
      "Epoch 40/50\n",
      "35/35 [==============================] - 0s 2ms/step - loss: 0.0115 - accuracy: 0.0286\n",
      "Epoch 41/50\n",
      "35/35 [==============================] - 0s 2ms/step - loss: 0.0109 - accuracy: 0.0286\n",
      "Epoch 42/50\n",
      "35/35 [==============================] - 0s 2ms/step - loss: 0.0104 - accuracy: 0.0286\n",
      "Epoch 43/50\n",
      "35/35 [==============================] - 0s 2ms/step - loss: 0.0099 - accuracy: 0.0286\n",
      "Epoch 44/50\n",
      "35/35 [==============================] - 0s 2ms/step - loss: 0.0095 - accuracy: 0.0286\n",
      "Epoch 45/50\n",
      "35/35 [==============================] - 0s 2ms/step - loss: 0.0091 - accuracy: 0.0286\n",
      "Epoch 46/50\n",
      "35/35 [==============================] - 0s 2ms/step - loss: 0.0087 - accuracy: 0.0286\n",
      "Epoch 47/50\n",
      "35/35 [==============================] - 0s 2ms/step - loss: 0.0084 - accuracy: 0.0286\n",
      "Epoch 48/50\n",
      "35/35 [==============================] - 0s 2ms/step - loss: 0.0081 - accuracy: 0.0286\n",
      "Epoch 49/50\n",
      "35/35 [==============================] - 0s 2ms/step - loss: 0.0078 - accuracy: 0.0286\n",
      "Epoch 50/50\n",
      "35/35 [==============================] - 0s 2ms/step - loss: 0.0076 - accuracy: 0.0286\n",
      "RMSE: 16809.790009594606\n",
      "MAE: 14228.166666666666\n",
      "R2 Score: 0.9900293941320308\n"
     ]
    },
    {
     "data": {
      "image/png": "[encoded data removed]",
      "text/plain": [
       "<Figure size 1080x360 with 1 Axes>"
      ]
     },
     "metadata": {
      "needs_background": "light"
     },
     "output_type": "display_data"
    }
   ],
   "source": [
    "lstm_model(train,test)"
   ]
  },
  {
   "cell_type": "code",
   "execution_count": 41,
   "id": "39be1dcc",
   "metadata": {
    "execution": {
     "iopub.execute_input": "2023-05-15T01:28:37.321924Z",
     "iopub.status.busy": "2023-05-15T01:28:37.320686Z",
     "iopub.status.idle": "2023-05-15T01:28:37.326353Z",
     "shell.execute_reply": "2023-05-15T01:28:37.325437Z"
    },
    "papermill": {
     "duration": 0.06269,
     "end_time": "2023-05-15T01:28:37.328758",
     "exception": false,
     "start_time": "2023-05-15T01:28:37.266068",
     "status": "completed"
    },
    "tags": []
   },
   "outputs": [],
   "source": [
    "pickle.dump(model_scores, open( \"model_scores.p\", \"wb\" ))"
   ]
  },
  {
   "cell_type": "markdown",
   "id": "7d32df51",
   "metadata": {
    "papermill": {
     "duration": 0.0532,
     "end_time": "2023-05-15T01:28:37.435619",
     "exception": false,
     "start_time": "2023-05-15T01:28:37.382419",
     "status": "completed"
    },
    "tags": []
   },
   "source": [
    "# ARIMA Modeling\n",
    "\n",
    "[ **SARIMAX Modeling**  ](https://machinelearningmastery.com/sarima-for-time-series-forecasting-in-python/)\n",
    "\n",
    "> We use the statsmodels SARIMAX package to train the model and generate dynamic predictions. The SARIMA model breaks down into a few parts.\n",
    "\n",
    "     AR: represented as p, is the autoregressive model\n",
    "     I : represented as d, is the differencing term\n",
    "     MA: represented as q, is the moving average model\n",
    "     S: enables us to add a seasonal component\n"
   ]
  },
  {
   "cell_type": "code",
   "execution_count": 42,
   "id": "f4db30fb",
   "metadata": {
    "execution": {
     "iopub.execute_input": "2023-05-15T01:28:37.544812Z",
     "iopub.status.busy": "2023-05-15T01:28:37.544099Z",
     "iopub.status.idle": "2023-05-15T01:28:37.549915Z",
     "shell.execute_reply": "2023-05-15T01:28:37.548946Z"
    },
    "papermill": {
     "duration": 0.062945,
     "end_time": "2023-05-15T01:28:37.552365",
     "exception": false,
     "start_time": "2023-05-15T01:28:37.489420",
     "status": "completed"
    },
    "tags": []
   },
   "outputs": [],
   "source": [
    "datatime_df.index = pd.to_datetime(datatime_df.index)"
   ]
  },
  {
   "cell_type": "markdown",
   "id": "cd9bd6dd",
   "metadata": {
    "papermill": {
     "duration": 0.052978,
     "end_time": "2023-05-15T01:28:37.659406",
     "exception": false,
     "start_time": "2023-05-15T01:28:37.606428",
     "status": "completed"
    },
    "tags": []
   },
   "source": [
    "<div class=\"alert alert-block alert-danger\" style =\"background-color : #e6ebef;\">\n",
    "    <p style=\"padding: 15px;\n",
    "              color:black;\">📌 In the code below, we define our model and then make dynamic predictions for the last 12 months of the data. For standard, non-dynamic predictions, the following month’s prediction is made using the actual sales from the prior months. In contrast, for dynamic predictions, the following month’s prediction is made using the predicted sales from the prior months.\n",
    "    </p>\n",
    "</div>\n"
   ]
  },
  {
   "cell_type": "code",
   "execution_count": 43,
   "id": "e2e85290",
   "metadata": {
    "execution": {
     "iopub.execute_input": "2023-05-15T01:28:37.770296Z",
     "iopub.status.busy": "2023-05-15T01:28:37.769055Z",
     "iopub.status.idle": "2023-05-15T01:28:37.781149Z",
     "shell.execute_reply": "2023-05-15T01:28:37.779792Z"
    },
    "papermill": {
     "duration": 0.071116,
     "end_time": "2023-05-15T01:28:37.784093",
     "exception": false,
     "start_time": "2023-05-15T01:28:37.712977",
     "status": "completed"
    },
    "tags": []
   },
   "outputs": [],
   "source": [
    "def sarimax_model(data):\n",
    "    # Model:\n",
    "    sar = sm.tsa.statespace.SARIMAX(data.sales_diff, order=(12, 0, 0),\n",
    "                                    seasonal_order=(0, 1, 0, 12),\n",
    "                                    trend='c').fit()\n",
    "    \n",
    "    # Generate predictions:\n",
    "    start, end, dynamic = 40, 100, 7\n",
    "    data['pred_value'] = sar.predict(start=start, end=end, dynamic=dynamic)\n",
    "    pred_df = data.pred_value[start+dynamic:end]\n",
    "    \n",
    "    data[[\"sales_diff\",\"pred_value\"]].plot(color=['blue', 'Red'])\n",
    "    plt.legend(loc='upper left')\n",
    "    \n",
    "    model_score = {}\n",
    "    \n",
    "    rmse = np.sqrt(mean_squared_error(data.sales_diff[-12:], data.pred_value[-12:]))\n",
    "    mae = mean_absolute_error(data.sales_diff[-12:], data.pred_value[-12:])\n",
    "    r2 = r2_score(data.sales_diff[-12:], data.pred_value[-12:])\n",
    "    model_scores['ARIMA'] = [rmse, mae, r2]\n",
    "    \n",
    "    print(f\"RMSE: {rmse}\\nMAE: {mae}\\nR2 Score: {r2}\")\n",
    "    \n",
    "    return sar, data, pred_df\n"
   ]
  },
  {
   "cell_type": "code",
   "execution_count": 44,
   "id": "8a798bec",
   "metadata": {
    "execution": {
     "iopub.execute_input": "2023-05-15T01:28:37.894073Z",
     "iopub.status.busy": "2023-05-15T01:28:37.893011Z",
     "iopub.status.idle": "2023-05-15T01:28:39.328592Z",
     "shell.execute_reply": "2023-05-15T01:28:39.327296Z"
    },
    "papermill": {
     "duration": 1.493221,
     "end_time": "2023-05-15T01:28:39.331439",
     "exception": false,
     "start_time": "2023-05-15T01:28:37.838218",
     "status": "completed"
    },
    "tags": []
   },
   "outputs": [
    {
     "name": "stderr",
     "output_type": "stream",
     "text": [
      "/opt/conda/lib/python3.7/site-packages/statsmodels/tsa/base/tsa_model.py:471: ValueWarning: No frequency information was provided, so inferred frequency MS will be used.\n",
      "  self._init_dates(dates, freq)\n",
      "/opt/conda/lib/python3.7/site-packages/statsmodels/tsa/base/tsa_model.py:471: ValueWarning: No frequency information was provided, so inferred frequency MS will be used.\n",
      "  self._init_dates(dates, freq)\n",
      " This problem is unconstrained.\n"
     ]
    },
    {
     "name": "stdout",
     "output_type": "stream",
     "text": [
      "RUNNING THE L-BFGS-B CODE\n",
      "\n",
      "           * * *\n",
      "\n",
      "Machine precision = 2.220D-16\n",
      " N =           14     M =           10\n",
      "\n",
      "At X0         0 variables are exactly at the bounds\n",
      "\n",
      "At iterate    0    f=  1.22535D+01    |proj g|=  9.18381D+00\n",
      "\n",
      "At iterate    5    f=  9.04312D+00    |proj g|=  8.09306D-01\n",
      "\n",
      "At iterate   10    f=  8.86307D+00    |proj g|=  3.28203D-01\n",
      "\n",
      "At iterate   15    f=  8.82005D+00    |proj g|=  1.12133D-02\n",
      "\n",
      "At iterate   20    f=  8.82001D+00    |proj g|=  3.35960D-04\n",
      "\n",
      "           * * *\n",
      "\n",
      "Tit   = total number of iterations\n",
      "Tnf   = total number of function evaluations\n",
      "Tnint = total number of segments explored during Cauchy searches\n",
      "Skip  = number of BFGS updates skipped\n",
      "Nact  = number of active bounds at final generalized Cauchy point\n",
      "Projg = norm of the final projected gradient\n",
      "F     = final function value\n",
      "\n",
      "           * * *\n",
      "\n",
      "   N    Tit     Tnf  Tnint  Skip  Nact     Projg        F\n",
      "   14     20     22      1     0     0   3.360D-04   8.820D+00\n",
      "  F =   8.8200108162152571     \n",
      "\n",
      "CONVERGENCE: REL_REDUCTION_OF_F_<=_FACTR*EPSMCH             \n",
      "RMSE: 14959.893467722846\n",
      "MAE: 11265.33574888095\n",
      "R2 Score: 0.9835642876202045\n"
     ]
    },
    {
     "data": {
      "image/png": "[encoded data removed]",
      "text/plain": [
       "<Figure size 432x288 with 1 Axes>"
      ]
     },
     "metadata": {
      "needs_background": "light"
     },
     "output_type": "display_data"
    }
   ],
   "source": [
    "sar, datatime_df, predictions = sarimax_model(datatime_df)"
   ]
  },
  {
   "cell_type": "markdown",
   "id": "2b322d9e",
   "metadata": {
    "papermill": {
     "duration": 0.054676,
     "end_time": "2023-05-15T01:28:39.442339",
     "exception": false,
     "start_time": "2023-05-15T01:28:39.387663",
     "status": "completed"
    },
    "tags": []
   },
   "source": [
    "[statsmodels](https://www.statsmodels.org/dev/generated/statsmodels.tsa.arima.model.ARIMAResults.plot_diagnostics.html)"
   ]
  },
  {
   "cell_type": "code",
   "execution_count": 45,
   "id": "efbed68f",
   "metadata": {
    "execution": {
     "iopub.execute_input": "2023-05-15T01:28:39.554358Z",
     "iopub.status.busy": "2023-05-15T01:28:39.553918Z",
     "iopub.status.idle": "2023-05-15T01:28:40.683611Z",
     "shell.execute_reply": "2023-05-15T01:28:40.682243Z"
    },
    "papermill": {
     "duration": 1.189289,
     "end_time": "2023-05-15T01:28:40.686633",
     "exception": false,
     "start_time": "2023-05-15T01:28:39.497344",
     "status": "completed"
    },
    "tags": []
   },
   "outputs": [
    {
     "data": {
      "image/png": "[encoded data removed]",
      "text/plain": [
       "<Figure size 864x576 with 4 Axes>"
      ]
     },
     "metadata": {
      "needs_background": "light"
     },
     "output_type": "display_data"
    }
   ],
   "source": [
    "sar.plot_diagnostics(figsize=(12, 8));"
   ]
  },
  {
   "cell_type": "code",
   "execution_count": 46,
   "id": "0534f5c8",
   "metadata": {
    "execution": {
     "iopub.execute_input": "2023-05-15T01:28:40.801234Z",
     "iopub.status.busy": "2023-05-15T01:28:40.800800Z",
     "iopub.status.idle": "2023-05-15T01:28:40.806515Z",
     "shell.execute_reply": "2023-05-15T01:28:40.805413Z"
    },
    "papermill": {
     "duration": 0.066293,
     "end_time": "2023-05-15T01:28:40.809169",
     "exception": false,
     "start_time": "2023-05-15T01:28:40.742876",
     "status": "completed"
    },
    "tags": []
   },
   "outputs": [],
   "source": [
    "pickle.dump(model_scores, open( \"ARIMAmodel_scores.p\", \"wb\" ))"
   ]
  },
  {
   "cell_type": "markdown",
   "id": "bb3f9263",
   "metadata": {
    "papermill": {
     "duration": 0.056138,
     "end_time": "2023-05-15T01:28:40.921636",
     "exception": false,
     "start_time": "2023-05-15T01:28:40.865498",
     "status": "completed"
    },
    "tags": []
   },
   "source": [
    "## **Comparing Models**"
   ]
  },
  {
   "cell_type": "code",
   "execution_count": 47,
   "id": "de01b769",
   "metadata": {
    "execution": {
     "iopub.execute_input": "2023-05-15T01:28:41.037397Z",
     "iopub.status.busy": "2023-05-15T01:28:41.036590Z",
     "iopub.status.idle": "2023-05-15T01:28:41.048872Z",
     "shell.execute_reply": "2023-05-15T01:28:41.047855Z"
    },
    "papermill": {
     "duration": 0.073204,
     "end_time": "2023-05-15T01:28:41.051652",
     "exception": false,
     "start_time": "2023-05-15T01:28:40.978448",
     "status": "completed"
    },
    "tags": []
   },
   "outputs": [],
   "source": [
    "def create_results_df():\n",
    "    results_dict = pickle.load(open(\"model_scores.p\", \"rb\"))\n",
    "    \n",
    "    results_dict.update(pickle.load(open(\"ARIMAmodel_scores.p\", \"rb\")))\n",
    "    \n",
    "    results_df = pd.DataFrame.from_dict(results_dict, orient='index', \n",
    "                                        columns=['RMSE', 'MAE','R2'])\n",
    "    \n",
    "    results_df = results_df.sort_values(by='RMSE', ascending=False).reset_index()\n",
    "    \n",
    "    results_df.to_csv('./results.csv')\n",
    "    \n",
    "    fig, ax = plt.subplots(figsize=(12, 5))\n",
    "    sns.lineplot(np.arange(len(results_df)), 'RMSE', data=results_df, ax=ax, \n",
    "                 label='RMSE', color='darkblue')\n",
    "    sns.lineplot(np.arange(len(results_df)), 'MAE', data=results_df, ax=ax, \n",
    "                 label='MAE', color='Cyan')\n",
    "    \n",
    "    plt.xticks(np.arange(len(results_df)),rotation=45)\n",
    "    ax.set_xticklabels(results_df['index'])\n",
    "    ax.set(xlabel = \"Model\",\n",
    "           ylabel = \"Scores\",\n",
    "           title = \"Model Error Comparison\")\n",
    "    sns.despine()\n",
    "    \n",
    "    plt.savefig(f'./model_output/compare_models.png')\n",
    "    \n",
    "    return results_df\n",
    "    \n",
    "    "
   ]
  },
  {
   "cell_type": "code",
   "execution_count": 48,
   "id": "f89afaaa",
   "metadata": {
    "execution": {
     "iopub.execute_input": "2023-05-15T01:28:41.168493Z",
     "iopub.status.busy": "2023-05-15T01:28:41.167637Z",
     "iopub.status.idle": "2023-05-15T01:28:41.563236Z",
     "shell.execute_reply": "2023-05-15T01:28:41.561806Z"
    },
    "papermill": {
     "duration": 0.457508,
     "end_time": "2023-05-15T01:28:41.566055",
     "exception": false,
     "start_time": "2023-05-15T01:28:41.108547",
     "status": "completed"
    },
    "tags": []
   },
   "outputs": [
    {
     "data": {
      "text/html": [
       "<div>\n",
       "<style scoped>\n",
       "    .dataframe tbody tr th:only-of-type {\n",
       "        vertical-align: middle;\n",
       "    }\n",
       "\n",
       "    .dataframe tbody tr th {\n",
       "        vertical-align: top;\n",
       "    }\n",
       "\n",
       "    .dataframe thead th {\n",
       "        text-align: right;\n",
       "    }\n",
       "</style>\n",
       "<table border=\"1\" class=\"dataframe\">\n",
       "  <thead>\n",
       "    <tr style=\"text-align: right;\">\n",
       "      <th></th>\n",
       "      <th>index</th>\n",
       "      <th>RMSE</th>\n",
       "      <th>MAE</th>\n",
       "      <th>R2</th>\n",
       "    </tr>\n",
       "  </thead>\n",
       "  <tbody>\n",
       "    <tr>\n",
       "      <th>0</th>\n",
       "      <td>RandomForest</td>\n",
       "      <td>18049.051866</td>\n",
       "      <td>15319.416667</td>\n",
       "      <td>0.988505</td>\n",
       "    </tr>\n",
       "    <tr>\n",
       "      <th>1</th>\n",
       "      <td>LSTM</td>\n",
       "      <td>16809.790010</td>\n",
       "      <td>14228.166667</td>\n",
       "      <td>0.990029</td>\n",
       "    </tr>\n",
       "    <tr>\n",
       "      <th>2</th>\n",
       "      <td>LinearRegression</td>\n",
       "      <td>16221.040791</td>\n",
       "      <td>12433.000000</td>\n",
       "      <td>0.990716</td>\n",
       "    </tr>\n",
       "    <tr>\n",
       "      <th>3</th>\n",
       "      <td>ARIMA</td>\n",
       "      <td>14959.893468</td>\n",
       "      <td>11265.335749</td>\n",
       "      <td>0.983564</td>\n",
       "    </tr>\n",
       "    <tr>\n",
       "      <th>4</th>\n",
       "      <td>XGBoost</td>\n",
       "      <td>13574.854582</td>\n",
       "      <td>11649.750000</td>\n",
       "      <td>0.993498</td>\n",
       "    </tr>\n",
       "  </tbody>\n",
       "</table>\n",
       "</div>"
      ],
      "text/plain": [
       "              index          RMSE           MAE        R2\n",
       "0      RandomForest  18049.051866  15319.416667  0.988505\n",
       "1              LSTM  16809.790010  14228.166667  0.990029\n",
       "2  LinearRegression  16221.040791  12433.000000  0.990716\n",
       "3             ARIMA  14959.893468  11265.335749  0.983564\n",
       "4           XGBoost  13574.854582  11649.750000  0.993498"
      ]
     },
     "execution_count": 48,
     "metadata": {},
     "output_type": "execute_result"
    },
    {
     "data": {
      "image/png": "[encoded data removed]",
      "text/plain": [
       "<Figure size 864x360 with 1 Axes>"
      ]
     },
     "metadata": {
      "needs_background": "light"
     },
     "output_type": "display_data"
    }
   ],
   "source": [
    "results = create_results_df()\n",
    "results"
   ]
  },
  {
   "cell_type": "code",
   "execution_count": 49,
   "id": "2ff0f7de",
   "metadata": {
    "execution": {
     "iopub.execute_input": "2023-05-15T01:28:41.685327Z",
     "iopub.status.busy": "2023-05-15T01:28:41.684457Z",
     "iopub.status.idle": "2023-05-15T01:28:41.692043Z",
     "shell.execute_reply": "2023-05-15T01:28:41.690605Z"
    },
    "papermill": {
     "duration": 0.069358,
     "end_time": "2023-05-15T01:28:41.694699",
     "exception": false,
     "start_time": "2023-05-15T01:28:41.625341",
     "status": "completed"
    },
    "tags": []
   },
   "outputs": [
    {
     "name": "stdout",
     "output_type": "stream",
     "text": [
      "Last 12 months average monthly sales: $894478.3333333334\n"
     ]
    }
   ],
   "source": [
    "avarage_12months()"
   ]
  },
  {
   "cell_type": "code",
   "execution_count": 50,
   "id": "cdb7703b",
   "metadata": {
    "execution": {
     "iopub.execute_input": "2023-05-15T01:28:41.812072Z",
     "iopub.status.busy": "2023-05-15T01:28:41.811671Z",
     "iopub.status.idle": "2023-05-15T01:28:41.818438Z",
     "shell.execute_reply": "2023-05-15T01:28:41.817125Z"
    },
    "papermill": {
     "duration": 0.069294,
     "end_time": "2023-05-15T01:28:41.821984",
     "exception": false,
     "start_time": "2023-05-15T01:28:41.752690",
     "status": "completed"
    },
    "tags": []
   },
   "outputs": [
    {
     "name": "stdout",
     "output_type": "stream",
     "text": [
      "With XGBoost, prediction is within 1.3% of the actual.\n"
     ]
    }
   ],
   "source": [
    "average = 894478.3333333334\n",
    "XGBoost = results.MAE.values[4]\n",
    "percentage_off = round(XGBoost/average*100,2)\n",
    "\n",
    "print(f\"With XGBoost, prediction is within {percentage_off}% of the actual.\")"
   ]
  }
 ],
 "metadata": {
  "kernelspec": {
   "display_name": "Python 3",
   "language": "python",
   "name": "python3"
  },
  "language_info": {
   "codemirror_mode": {
    "name": "ipython",
    "version": 3
   },
   "file_extension": ".py",
   "mimetype": "text/x-python",
   "name": "python",
   "nbconvert_exporter": "python",
   "pygments_lexer": "ipython3",
   "version": "3.7.12"
  },
  "papermill": {
   "default_parameters": {},
   "duration": 48.861383,
   "end_time": "2023-05-15T01:28:45.149069",
   "environment_variables": {},
   "exception": null,
   "input_path": "__notebook__.ipynb",
   "output_path": "__notebook__.ipynb",
   "parameters": {},
   "start_time": "2023-05-15T01:27:56.287686",
   "version": "2.3.4"
  }
 },
 "nbformat": 4,
 "nbformat_minor": 5
}
